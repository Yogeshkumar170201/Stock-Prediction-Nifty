{
  "nbformat": 4,
  "nbformat_minor": 0,
  "metadata": {
    "colab": {
      "name": "EcoStockPrediction.ipynb",
      "provenance": [],
      "collapsed_sections": [],
      "authorship_tag": "ABX9TyPI9U9b9cf8brvS2BH5i5bQ",
      "include_colab_link": true
    },
    "kernelspec": {
      "display_name": "Python 3",
      "name": "python3"
    },
    "language_info": {
      "name": "python"
    }
  },
  "cells": [
    {
      "cell_type": "markdown",
      "metadata": {
        "id": "view-in-github",
        "colab_type": "text"
      },
      "source": [
        "<a href=\"https://colab.research.google.com/github/Yogeshkumar170201/Stock-Prediction-Nifty/blob/main/EcoStockPrediction.ipynb\" target=\"_parent\"><img src=\"https://colab.research.google.com/assets/colab-badge.svg\" alt=\"Open In Colab\"/></a>"
      ]
    },
    {
      "cell_type": "code",
      "metadata": {
        "id": "RVrvyEUVaczM"
      },
      "source": [
        "import numpy as np\n",
        "import pandas as pd\n",
        "import matplotlib.pyplot as plt\n",
        "import datetime"
      ],
      "execution_count": 72,
      "outputs": []
    },
    {
      "cell_type": "markdown",
      "metadata": {
        "id": "kvX_GIXrIDVS"
      },
      "source": [
        "# **Dataset (31 Mar, 2014 to 31 Oct, 2021)**"
      ]
    },
    {
      "cell_type": "code",
      "metadata": {
        "id": "TiLlzPb9bxD_"
      },
      "source": [
        "dataset = pd.read_csv(\"/content/dataset.csv\")"
      ],
      "execution_count": 73,
      "outputs": []
    },
    {
      "cell_type": "code",
      "metadata": {
        "colab": {
          "base_uri": "https://localhost:8080/",
          "height": 204
        },
        "id": "lVKPJusrcWzS",
        "outputId": "2d3d76ad-760d-4fbd-b725-2e8090e805e9"
      },
      "source": [
        "dataset.head()"
      ],
      "execution_count": 74,
      "outputs": [
        {
          "output_type": "execute_result",
          "data": {
            "text/html": [
              "<div>\n",
              "<style scoped>\n",
              "    .dataframe tbody tr th:only-of-type {\n",
              "        vertical-align: middle;\n",
              "    }\n",
              "\n",
              "    .dataframe tbody tr th {\n",
              "        vertical-align: top;\n",
              "    }\n",
              "\n",
              "    .dataframe thead th {\n",
              "        text-align: right;\n",
              "    }\n",
              "</style>\n",
              "<table border=\"1\" class=\"dataframe\">\n",
              "  <thead>\n",
              "    <tr style=\"text-align: right;\">\n",
              "      <th></th>\n",
              "      <th>Date</th>\n",
              "      <th>Open</th>\n",
              "      <th>High</th>\n",
              "      <th>Low</th>\n",
              "      <th>Close</th>\n",
              "      <th>Shares Traded</th>\n",
              "      <th>Turnover (Rs. Cr)</th>\n",
              "    </tr>\n",
              "  </thead>\n",
              "  <tbody>\n",
              "    <tr>\n",
              "      <th>0</th>\n",
              "      <td>01-Apr-14</td>\n",
              "      <td>6729.50</td>\n",
              "      <td>6732.25</td>\n",
              "      <td>6675.45</td>\n",
              "      <td>6721.05</td>\n",
              "      <td>147136671</td>\n",
              "      <td>7174.14</td>\n",
              "    </tr>\n",
              "    <tr>\n",
              "      <th>1</th>\n",
              "      <td>02-Apr-14</td>\n",
              "      <td>6757.60</td>\n",
              "      <td>6763.50</td>\n",
              "      <td>6723.60</td>\n",
              "      <td>6752.55</td>\n",
              "      <td>173335875</td>\n",
              "      <td>8007.75</td>\n",
              "    </tr>\n",
              "    <tr>\n",
              "      <th>2</th>\n",
              "      <td>03-Apr-14</td>\n",
              "      <td>6772.05</td>\n",
              "      <td>6776.75</td>\n",
              "      <td>6696.90</td>\n",
              "      <td>6736.10</td>\n",
              "      <td>197546648</td>\n",
              "      <td>7738.58</td>\n",
              "    </tr>\n",
              "    <tr>\n",
              "      <th>3</th>\n",
              "      <td>04-Apr-14</td>\n",
              "      <td>6741.85</td>\n",
              "      <td>6741.85</td>\n",
              "      <td>6685.15</td>\n",
              "      <td>6694.35</td>\n",
              "      <td>155127592</td>\n",
              "      <td>6676.88</td>\n",
              "    </tr>\n",
              "    <tr>\n",
              "      <th>4</th>\n",
              "      <td>07-Apr-14</td>\n",
              "      <td>6694.25</td>\n",
              "      <td>6725.15</td>\n",
              "      <td>6650.40</td>\n",
              "      <td>6695.05</td>\n",
              "      <td>133947319</td>\n",
              "      <td>6707.01</td>\n",
              "    </tr>\n",
              "  </tbody>\n",
              "</table>\n",
              "</div>"
            ],
            "text/plain": [
              "        Date     Open     High  ...    Close  Shares Traded  Turnover (Rs. Cr)\n",
              "0  01-Apr-14  6729.50  6732.25  ...  6721.05      147136671            7174.14\n",
              "1  02-Apr-14  6757.60  6763.50  ...  6752.55      173335875            8007.75\n",
              "2  03-Apr-14  6772.05  6776.75  ...  6736.10      197546648            7738.58\n",
              "3  04-Apr-14  6741.85  6741.85  ...  6694.35      155127592            6676.88\n",
              "4  07-Apr-14  6694.25  6725.15  ...  6695.05      133947319            6707.01\n",
              "\n",
              "[5 rows x 7 columns]"
            ]
          },
          "metadata": {},
          "execution_count": 74
        }
      ]
    },
    {
      "cell_type": "code",
      "metadata": {
        "colab": {
          "base_uri": "https://localhost:8080/"
        },
        "id": "TB4p31ExdVKD",
        "outputId": "43c07a9a-bd2d-4c30-8065-f7c5d3e7c278"
      },
      "source": [
        "dataset.info()"
      ],
      "execution_count": 75,
      "outputs": [
        {
          "output_type": "stream",
          "name": "stdout",
          "text": [
            "<class 'pandas.core.frame.DataFrame'>\n",
            "RangeIndex: 1870 entries, 0 to 1869\n",
            "Data columns (total 7 columns):\n",
            " #   Column             Non-Null Count  Dtype  \n",
            "---  ------             --------------  -----  \n",
            " 0   Date               1870 non-null   object \n",
            " 1   Open               1870 non-null   float64\n",
            " 2   High               1870 non-null   float64\n",
            " 3   Low                1870 non-null   float64\n",
            " 4   Close              1870 non-null   float64\n",
            " 5   Shares Traded      1870 non-null   int64  \n",
            " 6   Turnover (Rs. Cr)  1870 non-null   float64\n",
            "dtypes: float64(5), int64(1), object(1)\n",
            "memory usage: 102.4+ KB\n"
          ]
        }
      ]
    },
    {
      "cell_type": "code",
      "metadata": {
        "id": "biHHJ3DcDzrB"
      },
      "source": [
        "df = dataset.reset_index()['Close']"
      ],
      "execution_count": 76,
      "outputs": []
    },
    {
      "cell_type": "code",
      "metadata": {
        "colab": {
          "base_uri": "https://localhost:8080/"
        },
        "id": "rIdUWiv6D8QF",
        "outputId": "6d961308-c95a-479e-ca78-881ecb6ac51f"
      },
      "source": [
        "print(df)"
      ],
      "execution_count": 77,
      "outputs": [
        {
          "output_type": "stream",
          "name": "stdout",
          "text": [
            "0        6721.05\n",
            "1        6752.55\n",
            "2        6736.10\n",
            "3        6694.35\n",
            "4        6695.05\n",
            "          ...   \n",
            "1865    18125.40\n",
            "1866    18268.40\n",
            "1867    18210.95\n",
            "1868    17857.25\n",
            "1869    17671.65\n",
            "Name: Close, Length: 1870, dtype: float64\n"
          ]
        }
      ]
    },
    {
      "cell_type": "code",
      "metadata": {
        "colab": {
          "base_uri": "https://localhost:8080/"
        },
        "id": "6bs6hbgkFvMU",
        "outputId": "4b46599a-74f8-4e60-b1b5-7b57d66edb6a"
      },
      "source": [
        "print(df.shape)"
      ],
      "execution_count": 78,
      "outputs": [
        {
          "output_type": "stream",
          "name": "stdout",
          "text": [
            "(1870,)\n"
          ]
        }
      ]
    },
    {
      "cell_type": "code",
      "metadata": {
        "colab": {
          "base_uri": "https://localhost:8080/",
          "height": 204
        },
        "id": "sS0NGJqEGABU",
        "outputId": "a01384c6-fd12-4f74-b99f-5d4c36768527"
      },
      "source": [
        "dataset.tail()"
      ],
      "execution_count": 79,
      "outputs": [
        {
          "output_type": "execute_result",
          "data": {
            "text/html": [
              "<div>\n",
              "<style scoped>\n",
              "    .dataframe tbody tr th:only-of-type {\n",
              "        vertical-align: middle;\n",
              "    }\n",
              "\n",
              "    .dataframe tbody tr th {\n",
              "        vertical-align: top;\n",
              "    }\n",
              "\n",
              "    .dataframe thead th {\n",
              "        text-align: right;\n",
              "    }\n",
              "</style>\n",
              "<table border=\"1\" class=\"dataframe\">\n",
              "  <thead>\n",
              "    <tr style=\"text-align: right;\">\n",
              "      <th></th>\n",
              "      <th>Date</th>\n",
              "      <th>Open</th>\n",
              "      <th>High</th>\n",
              "      <th>Low</th>\n",
              "      <th>Close</th>\n",
              "      <th>Shares Traded</th>\n",
              "      <th>Turnover (Rs. Cr)</th>\n",
              "    </tr>\n",
              "  </thead>\n",
              "  <tbody>\n",
              "    <tr>\n",
              "      <th>1865</th>\n",
              "      <td>25-Oct-21</td>\n",
              "      <td>18229.50</td>\n",
              "      <td>18241.40</td>\n",
              "      <td>17968.50</td>\n",
              "      <td>18125.40</td>\n",
              "      <td>418703647</td>\n",
              "      <td>34572.34</td>\n",
              "    </tr>\n",
              "    <tr>\n",
              "      <th>1866</th>\n",
              "      <td>26-Oct-21</td>\n",
              "      <td>18154.50</td>\n",
              "      <td>18310.45</td>\n",
              "      <td>18099.30</td>\n",
              "      <td>18268.40</td>\n",
              "      <td>341377869</td>\n",
              "      <td>29764.61</td>\n",
              "    </tr>\n",
              "    <tr>\n",
              "      <th>1867</th>\n",
              "      <td>27-Oct-21</td>\n",
              "      <td>18295.85</td>\n",
              "      <td>18342.05</td>\n",
              "      <td>18167.90</td>\n",
              "      <td>18210.95</td>\n",
              "      <td>335248487</td>\n",
              "      <td>30823.75</td>\n",
              "    </tr>\n",
              "    <tr>\n",
              "      <th>1868</th>\n",
              "      <td>28-Oct-21</td>\n",
              "      <td>18187.65</td>\n",
              "      <td>18190.70</td>\n",
              "      <td>17799.45</td>\n",
              "      <td>17857.25</td>\n",
              "      <td>374205784</td>\n",
              "      <td>30222.34</td>\n",
              "    </tr>\n",
              "    <tr>\n",
              "      <th>1869</th>\n",
              "      <td>29-Oct-21</td>\n",
              "      <td>17833.05</td>\n",
              "      <td>17915.85</td>\n",
              "      <td>17613.10</td>\n",
              "      <td>17671.65</td>\n",
              "      <td>336466864</td>\n",
              "      <td>28136.00</td>\n",
              "    </tr>\n",
              "  </tbody>\n",
              "</table>\n",
              "</div>"
            ],
            "text/plain": [
              "           Date      Open      High  ...     Close  Shares Traded  Turnover (Rs. Cr)\n",
              "1865  25-Oct-21  18229.50  18241.40  ...  18125.40      418703647           34572.34\n",
              "1866  26-Oct-21  18154.50  18310.45  ...  18268.40      341377869           29764.61\n",
              "1867  27-Oct-21  18295.85  18342.05  ...  18210.95      335248487           30823.75\n",
              "1868  28-Oct-21  18187.65  18190.70  ...  17857.25      374205784           30222.34\n",
              "1869  29-Oct-21  17833.05  17915.85  ...  17671.65      336466864           28136.00\n",
              "\n",
              "[5 rows x 7 columns]"
            ]
          },
          "metadata": {},
          "execution_count": 79
        }
      ]
    },
    {
      "cell_type": "code",
      "metadata": {
        "colab": {
          "base_uri": "https://localhost:8080/",
          "height": 282
        },
        "id": "FD52naOkGztb",
        "outputId": "8a8c8665-3809-4b21-bbf7-4187225102e3"
      },
      "source": [
        "plt.plot(df)"
      ],
      "execution_count": 80,
      "outputs": [
        {
          "output_type": "execute_result",
          "data": {
            "text/plain": [
              "[<matplotlib.lines.Line2D at 0x7fa14f7fafd0>]"
            ]
          },
          "metadata": {},
          "execution_count": 80
        },
        {
          "output_type": "display_data",
          "data": {
            "image/png": "[encoded data removed]",
            "text/plain": [
              "<Figure size 432x288 with 1 Axes>"
            ]
          },
          "metadata": {
            "needs_background": "light"
          }
        }
      ]
    },
    {
      "cell_type": "markdown",
      "metadata": {
        "id": "fe5D19BaY-3D"
      },
      "source": [
        "# **Pre-Processing**"
      ]
    },
    {
      "cell_type": "code",
      "metadata": {
        "id": "YVnZ1enmH_hi"
      },
      "source": [
        "from sklearn.preprocessing import MinMaxScaler"
      ],
      "execution_count": 81,
      "outputs": []
    },
    {
      "cell_type": "code",
      "metadata": {
        "id": "y9EABENpIzq7"
      },
      "source": [
        "scaler = MinMaxScaler(feature_range=(0,1))\n",
        "df = scaler.fit_transform(np.array(df).reshape(-1, 1))"
      ],
      "execution_count": 82,
      "outputs": []
    },
    {
      "cell_type": "code",
      "metadata": {
        "colab": {
          "base_uri": "https://localhost:8080/"
        },
        "id": "9wnZ9SDuJC8C",
        "outputId": "7e410970-ea42-47ab-9676-cd7ad3b2c592"
      },
      "source": [
        "print(df)"
      ],
      "execution_count": 83,
      "outputs": [
        {
          "output_type": "stream",
          "name": "stdout",
          "text": [
            "[[0.00579306]\n",
            " [0.00845702]\n",
            " [0.00706584]\n",
            " ...\n",
            " [0.97749588]\n",
            " [0.94758341]\n",
            " [0.93188718]]\n"
          ]
        }
      ]
    },
    {
      "cell_type": "markdown",
      "metadata": {
        "id": "jmlpLWd4K8YX"
      },
      "source": [
        "# **Split Dataset into Train and Test**"
      ]
    },
    {
      "cell_type": "code",
      "metadata": {
        "id": "4okHsCe_Ksji"
      },
      "source": [
        "train_size = int(len(df)*0.65)\n",
        "test_size = len(df)-train_size"
      ],
      "execution_count": 84,
      "outputs": []
    },
    {
      "cell_type": "code",
      "metadata": {
        "colab": {
          "base_uri": "https://localhost:8080/"
        },
        "id": "J_ctJMrXLx-V",
        "outputId": "25e111b2-7019-4831-b11c-5dd195803447"
      },
      "source": [
        "train_size, test_size"
      ],
      "execution_count": 85,
      "outputs": [
        {
          "output_type": "execute_result",
          "data": {
            "text/plain": [
              "(1215, 655)"
            ]
          },
          "metadata": {},
          "execution_count": 85
        }
      ]
    },
    {
      "cell_type": "code",
      "metadata": {
        "id": "gkleR4OhMBu8"
      },
      "source": [
        "train_data = df[0:train_size, :]\n",
        "test_data = df[train_size:len(df),:]"
      ],
      "execution_count": 86,
      "outputs": []
    },
    {
      "cell_type": "code",
      "metadata": {
        "colab": {
          "base_uri": "https://localhost:8080/"
        },
        "id": "Hql-arYzMQS0",
        "outputId": "2ca1fde5-0159-4926-824c-e78cfafdbbb4"
      },
      "source": [
        "print(train_data)\n",
        "print(test_data)"
      ],
      "execution_count": 87,
      "outputs": [
        {
          "output_type": "stream",
          "name": "stdout",
          "text": [
            "[[0.00579306]\n",
            " [0.00845702]\n",
            " [0.00706584]\n",
            " ...\n",
            " [0.35612077]\n",
            " [0.36660324]\n",
            " [0.37214681]]\n",
            "[[0.37258658]\n",
            " [0.37065838]\n",
            " [0.38187661]\n",
            " [0.39313713]\n",
            " [0.39656222]\n",
            " [0.39669331]\n",
            " [0.40376337]\n",
            " [0.40675293]\n",
            " [0.41268975]\n",
            " [0.41172988]\n",
            " [0.40630471]\n",
            " [0.39762358]\n",
            " [0.40853313]\n",
            " [0.40530255]\n",
            " [0.41586959]\n",
            " [0.42042793]\n",
            " [0.42798004]\n",
            " [0.42212356]\n",
            " [0.41823756]\n",
            " [0.4239841 ]\n",
            " [0.41878726]\n",
            " [0.42449152]\n",
            " [0.41707895]\n",
            " [0.41812762]\n",
            " [0.42208127]\n",
            " [0.42604761]\n",
            " [0.43423401]\n",
            " [0.43132902]\n",
            " [0.41793733]\n",
            " [0.41637279]\n",
            " [0.42907523]\n",
            " [0.42194173]\n",
            " [0.43148548]\n",
            " [0.43093577]\n",
            " [0.42895683]\n",
            " [0.4278997 ]\n",
            " [0.4182587 ]\n",
            " [0.40977208]\n",
            " [0.39806334]\n",
            " [0.39318787]\n",
            " [0.39125122]\n",
            " [0.38019789]\n",
            " [0.3864434 ]\n",
            " [0.38094211]\n",
            " [0.38940759]\n",
            " [0.40209734]\n",
            " [0.43770984]\n",
            " [0.4276333 ]\n",
            " [0.43006892]\n",
            " [0.42323143]\n",
            " [0.43905028]\n",
            " [0.44587086]\n",
            " [0.44620914]\n",
            " [0.44048797]\n",
            " [0.44765952]\n",
            " [0.44570595]\n",
            " [0.45972346]\n",
            " [0.45406571]\n",
            " [0.43902068]\n",
            " [0.44129562]\n",
            " [0.44569749]\n",
            " [0.44932555]\n",
            " [0.44430208]\n",
            " [0.44496596]\n",
            " [0.43729122]\n",
            " [0.42450844]\n",
            " [0.42614487]\n",
            " [0.42614064]\n",
            " [0.43800584]\n",
            " [0.42890186]\n",
            " [0.42683412]\n",
            " [0.43502051]\n",
            " [0.43934204]\n",
            " [0.43883462]\n",
            " [0.43437777]\n",
            " [0.44086854]\n",
            " [0.44464882]\n",
            " [0.4451943 ]\n",
            " [0.44773141]\n",
            " [0.43626369]\n",
            " [0.41490549]\n",
            " [0.41467715]\n",
            " [0.40985665]\n",
            " [0.41696055]\n",
            " [0.41438961]\n",
            " [0.41742146]\n",
            " [0.42370079]\n",
            " [0.42580659]\n",
            " [0.41814453]\n",
            " [0.40312064]\n",
            " [0.39694279]\n",
            " [0.39566155]\n",
            " [0.39060848]\n",
            " [0.38898896]\n",
            " [0.39170789]\n",
            " [0.38366527]\n",
            " [0.37488689]\n",
            " [0.37764388]\n",
            " [0.36597319]\n",
            " [0.36744048]\n",
            " [0.35604465]\n",
            " [0.36328809]\n",
            " [0.3554442 ]\n",
            " [0.3704089 ]\n",
            " [0.37693771]\n",
            " [0.36139372]\n",
            " [0.37015096]\n",
            " [0.37170705]\n",
            " [0.37222293]\n",
            " [0.36910229]\n",
            " [0.36078904]\n",
            " [0.34579052]\n",
            " [0.35323269]\n",
            " [0.37255698]\n",
            " [0.37657406]\n",
            " [0.37156328]\n",
            " [0.36329232]\n",
            " [0.36963085]\n",
            " [0.35057296]\n",
            " [0.35452662]\n",
            " [0.35480147]\n",
            " [0.36311472]\n",
            " [0.36792253]\n",
            " [0.37068375]\n",
            " [0.36620999]\n",
            " [0.37408347]\n",
            " [0.36796059]\n",
            " [0.352239  ]\n",
            " [0.35418834]\n",
            " [0.34269948]\n",
            " [0.39085374]\n",
            " [0.41842361]\n",
            " [0.41740877]\n",
            " [0.40489238]\n",
            " [0.41597108]\n",
            " [0.41099835]\n",
            " [0.40778891]\n",
            " [0.3981014 ]\n",
            " [0.39421963]\n",
            " [0.38244323]\n",
            " [0.37835426]\n",
            " [0.39416043]\n",
            " [0.38750053]\n",
            " [0.39346273]\n",
            " [0.39651571]\n",
            " [0.403886  ]\n",
            " [0.40690515]\n",
            " [0.41725232]\n",
            " [0.42363736]\n",
            " [0.41742146]\n",
            " [0.41875344]\n",
            " [0.41693518]\n",
            " [0.41704512]\n",
            " [0.42070278]\n",
            " [0.43420863]\n",
            " [0.43905028]\n",
            " [0.44187069]\n",
            " [0.44298279]\n",
            " [0.4472705 ]\n",
            " [0.44523236]\n",
            " [0.44936361]\n",
            " [0.45325384]\n",
            " [0.444467  ]\n",
            " [0.44491522]\n",
            " [0.4387416 ]\n",
            " [0.44141824]\n",
            " [0.44339296]\n",
            " [0.44246691]\n",
            " [0.44716901]\n",
            " [0.45215865]\n",
            " [0.44956235]\n",
            " [0.44499556]\n",
            " [0.45847182]\n",
            " [0.45542306]\n",
            " [0.46075098]\n",
            " [0.46501755]\n",
            " [0.45697492]\n",
            " [0.45631105]\n",
            " [0.45174426]\n",
            " [0.4558882 ]\n",
            " [0.45379086]\n",
            " [0.44559601]\n",
            " [0.44694913]\n",
            " [0.44012432]\n",
            " [0.44463614]\n",
            " [0.44984989]\n",
            " [0.459567  ]\n",
            " [0.45679733]\n",
            " [0.46618885]\n",
            " [0.47097975]\n",
            " [0.47419764]\n",
            " [0.47522094]\n",
            " [0.47445558]\n",
            " [0.4703793 ]\n",
            " [0.46293712]\n",
            " [0.47302212]\n",
            " [0.47387205]\n",
            " [0.46648061]\n",
            " [0.46766882]\n",
            " [0.47610047]\n",
            " [0.4714026 ]\n",
            " [0.451647  ]\n",
            " [0.45671276]\n",
            " [0.45437862]\n",
            " [0.47049347]\n",
            " [0.47395239]\n",
            " [0.48010487]\n",
            " [0.48287454]\n",
            " [0.48126771]\n",
            " [0.48229946]\n",
            " [0.48203307]\n",
            " [0.471225  ]\n",
            " [0.46659901]\n",
            " [0.46127532]\n",
            " [0.467487  ]\n",
            " [0.47322931]\n",
            " [0.46229862]\n",
            " [0.45695378]\n",
            " [0.4631866 ]\n",
            " [0.45526238]\n",
            " [0.44902956]\n",
            " [0.42363736]\n",
            " [0.42753182]\n",
            " [0.45051376]\n",
            " [0.4597742 ]\n",
            " [0.46390122]\n",
            " [0.46055224]\n",
            " [0.45489873]\n",
            " [0.46135989]\n",
            " [0.46925029]\n",
            " [0.46700495]\n",
            " [0.46182925]\n",
            " [0.45610808]\n",
            " [0.45160049]\n",
            " [0.46288215]\n",
            " [0.45907227]\n",
            " [0.4378071 ]\n",
            " [0.43514314]\n",
            " [0.42504546]\n",
            " [0.42122288]\n",
            " [0.38472663]\n",
            " [0.37889129]\n",
            " [0.39331473]\n",
            " [0.38889171]\n",
            " [0.39041397]\n",
            " [0.36677238]\n",
            " [0.32127363]\n",
            " [0.32186139]\n",
            " [0.24843334]\n",
            " [0.27930568]\n",
            " [0.2152184 ]\n",
            " [0.19573766]\n",
            " [0.15360058]\n",
            " [0.13623409]\n",
            " [0.17699691]\n",
            " [0.08099285]\n",
            " [0.09712884]\n",
            " [0.14083471]\n",
            " [0.16820162]\n",
            " [0.16979153]\n",
            " [0.13772675]\n",
            " [0.1645059 ]\n",
            " [0.13541799]\n",
            " [0.12104106]\n",
            " [0.18095057]\n",
            " [0.17727599]\n",
            " [0.20798765]\n",
            " [0.19800414]\n",
            " [0.19220686]\n",
            " [0.19791535]\n",
            " [0.22108334]\n",
            " [0.22066895]\n",
            " [0.19695547]\n",
            " [0.21436424]\n",
            " [0.22507083]\n",
            " [0.21158189]\n",
            " [0.22239841]\n",
            " [0.23073703]\n",
            " [0.24532116]\n",
            " [0.27124614]\n",
            " [0.2233456 ]\n",
            " [0.21591188]\n",
            " [0.22143431]\n",
            " [0.21535794]\n",
            " [0.21979365]\n",
            " [0.21875344]\n",
            " [0.21514652]\n",
            " [0.23096114]\n",
            " [0.21059664]\n",
            " [0.21009768]\n",
            " [0.18357647]\n",
            " [0.18829972]\n",
            " [0.2041524 ]\n",
            " [0.20750983]\n",
            " [0.20184363]\n",
            " [0.20098101]\n",
            " [0.22515963]\n",
            " [0.23997209]\n",
            " [0.24760032]\n",
            " [0.2683919 ]\n",
            " [0.28132691]\n",
            " [0.28829972]\n",
            " [0.28555541]\n",
            " [0.29511607]\n",
            " [0.2972557 ]\n",
            " [0.28703962]\n",
            " [0.29291725]\n",
            " [0.27480655]\n",
            " [0.28080257]\n",
            " [0.267339  ]\n",
            " [0.27582139]\n",
            " [0.27304326]\n",
            " [0.29084528]\n",
            " [0.30376337]\n",
            " [0.30941266]\n",
            " [0.32292697]\n",
            " [0.3089137 ]\n",
            " [0.30752675]\n",
            " [0.3154848 ]\n",
            " [0.30951414]\n",
            " [0.30864307]\n",
            " [0.31946383]\n",
            " [0.32975179]\n",
            " [0.33445812]\n",
            " [0.34767643]\n",
            " [0.35072096]\n",
            " [0.34277982]\n",
            " [0.35188803]\n",
            " [0.34804854]\n",
            " [0.3509789 ]\n",
            " [0.33445812]\n",
            " [0.3353757 ]\n",
            " [0.34567212]\n",
            " [0.35935135]\n",
            " [0.36954205]\n",
            " [0.38138611]\n",
            " [0.3788786 ]\n",
            " [0.38588524]\n",
            " [0.38408389]\n",
            " [0.37881094]\n",
            " [0.39308216]\n",
            " [0.38481965]\n",
            " [0.37630344]\n",
            " [0.37387627]\n",
            " [0.35849719]\n",
            " [0.3757199 ]\n",
            " [0.37626115]\n",
            " [0.38459131]\n",
            " [0.38576684]\n",
            " [0.39051123]\n",
            " [0.39493848]\n",
            " [0.39374604]\n",
            " [0.3930737 ]\n",
            " [0.38275191]\n",
            " [0.38856188]\n",
            " [0.40025371]\n",
            " [0.40220305]\n",
            " [0.3940674 ]\n",
            " [0.39909087]\n",
            " [0.40711235]\n",
            " [0.40760286]\n",
            " [0.41414436]\n",
            " [0.41496046]\n",
            " [0.42243224]\n",
            " [0.40043554]\n",
            " [0.40743372]\n",
            " [0.41290964]\n",
            " [0.41227113]\n",
            " [0.39589835]\n",
            " [0.39769123]\n",
            " [0.39450294]\n",
            " [0.3911751 ]\n",
            " [0.40565774]\n",
            " [0.40694321]\n",
            " [0.4048797 ]\n",
            " [0.41179331]\n",
            " [0.41879149]\n",
            " [0.41131126]\n",
            " [0.4103683 ]\n",
            " [0.38885365]\n",
            " [0.3806588 ]\n",
            " [0.37881517]\n",
            " [0.35121992]\n",
            " [0.37191425]\n",
            " [0.38690854]\n",
            " [0.386473  ]\n",
            " [0.38859994]\n",
            " [0.40292613]\n",
            " [0.41023299]\n",
            " [0.42368388]\n",
            " [0.43014927]\n",
            " [0.43824686]\n",
            " [0.44497865]\n",
            " [0.4463952 ]\n",
            " [0.44669542]\n",
            " [0.44978646]\n",
            " [0.42520191]\n",
            " [0.43214512]\n",
            " [0.44149858]\n",
            " [0.44350713]\n",
            " [0.44696182]\n",
            " [0.44347753]\n",
            " [0.44634445]\n",
            " [0.43259334]\n",
            " [0.44288131]\n",
            " [0.42936699]\n",
            " [0.42439427]\n",
            " [0.42199247]\n",
            " [0.42425473]\n",
            " [0.43646243]\n",
            " [0.4444966 ]\n",
            " [0.46240856]\n",
            " [0.47452324]\n",
            " [0.49122584]\n",
            " [0.505607  ]\n",
            " [0.51559051]\n",
            " [0.51065584]\n",
            " [0.51312106]\n",
            " [0.51822064]\n",
            " [0.52616601]\n",
            " [0.53158273]\n",
            " [0.51749757]\n",
            " [0.52488477]\n",
            " [0.5305848 ]\n",
            " [0.54146898]\n",
            " [0.5248298 ]\n",
            " [0.53570553]\n",
            " [0.53417904]\n",
            " [0.54602732]\n",
            " [0.5464248 ]\n",
            " [0.54812888]\n",
            " [0.55867056]\n",
            " [0.56689078]\n",
            " [0.57003679]\n",
            " [0.58155102]\n",
            " [0.57725485]\n",
            " [0.58026132]\n",
            " [0.58400778]\n",
            " [0.58482811]\n",
            " [0.594541  ]\n",
            " [0.59944607]\n",
            " [0.60112478]\n",
            " [0.56457778]\n",
            " [0.57624001]\n",
            " [0.58764007]\n",
            " [0.60016914]\n",
            " [0.61065161]\n",
            " [0.61567508]\n",
            " [0.61984862]\n",
            " [0.61983171]\n",
            " [0.62293966]\n",
            " [0.63261449]\n",
            " [0.63824686]\n",
            " [0.6337435 ]\n",
            " [0.63299082]\n",
            " [0.6507421 ]\n",
            " [0.6623705 ]\n",
            " [0.66902617]\n",
            " [0.66914457]\n",
            " [0.67174511]\n",
            " [0.65805319]\n",
            " [0.6451647 ]\n",
            " [0.66544886]\n",
            " [0.6758975 ]\n",
            " [0.67130111]\n",
            " [0.65282676]\n",
            " [0.64157893]\n",
            " [0.61862658]\n",
            " [0.60594528]\n",
            " [0.59047317]\n",
            " [0.64515624]\n",
            " [0.6761639 ]\n",
            " [0.68818132]\n",
            " [0.69712039]\n",
            " [0.69953909]\n",
            " [0.71573851]\n",
            " [0.7151888 ]\n",
            " [0.71495201]\n",
            " [0.72060129]\n",
            " [0.71975559]\n",
            " [0.73255952]\n",
            " [0.7324538 ]\n",
            " [0.72361199]\n",
            " [0.71600491]\n",
            " [0.70440188]\n",
            " [0.67851918]\n",
            " [0.68123388]\n",
            " [0.70442302]\n",
            " [0.71417819]\n",
            " [0.66612542]\n",
            " [0.68577953]\n",
            " [0.69910356]\n",
            " [0.72671572]\n",
            " [0.71277432]\n",
            " [0.70071039]\n",
            " [0.70224111]\n",
            " [0.71426699]\n",
            " [0.72072815]\n",
            " [0.70856273]\n",
            " [0.69998309]\n",
            " [0.69837202]\n",
            " [0.68237558]\n",
            " [0.66855258]\n",
            " [0.68429532]\n",
            " [0.68365259]\n",
            " [0.69027866]\n",
            " [0.66783796]\n",
            " [0.64885196]\n",
            " [0.66427756]\n",
            " [0.69284536]\n",
            " [0.67978773]\n",
            " [0.69472705]\n",
            " [0.67531397]\n",
            " [0.67917882]\n",
            " [0.69064231]\n",
            " [0.69527253]\n",
            " [0.69197852]\n",
            " [0.64765952]\n",
            " [0.66406613]\n",
            " [0.67054844]\n",
            " [0.67362679]\n",
            " [0.65177386]\n",
            " [0.64644171]\n",
            " [0.65572329]\n",
            " [0.65024314]\n",
            " [0.66239164]\n",
            " [0.67660366]\n",
            " [0.69449025]\n",
            " [0.69705696]\n",
            " [0.67474735]\n",
            " [0.67500529]\n",
            " [0.6633642 ]\n",
            " [0.67362679]\n",
            " [0.68267157]\n",
            " [0.69098905]\n",
            " [0.70106981]\n",
            " [0.69332318]\n",
            " [0.68027824]\n",
            " [0.67869677]\n",
            " [0.69944607]\n",
            " [0.71508732]\n",
            " [0.70849507]\n",
            " [0.69799992]\n",
            " [0.72077043]\n",
            " [0.72266481]\n",
            " [0.72357394]\n",
            " [0.73143896]\n",
            " [0.73451732]\n",
            " [0.74278828]\n",
            " [0.75523278]\n",
            " [0.75456045]\n",
            " [0.75467462]\n",
            " [0.7643283 ]\n",
            " [0.76262844]\n",
            " [0.76951245]\n",
            " [0.76853567]\n",
            " [0.75967694]\n",
            " [0.76833693]\n",
            " [0.77354645]\n",
            " [0.77460358]\n",
            " [0.77945791]\n",
            " [0.77085712]\n",
            " [0.7644171 ]\n",
            " [0.76373631]\n",
            " [0.76907692]\n",
            " [0.77129688]\n",
            " [0.76404076]\n",
            " [0.77279378]\n",
            " [0.77870523]\n",
            " [0.7748446 ]\n",
            " [0.76924183]\n",
            " [0.76696266]\n",
            " [0.763453  ]\n",
            " [0.76702186]\n",
            " [0.77650641]\n",
            " [0.77514483]\n",
            " [0.78033743]\n",
            " [0.76750391]\n",
            " [0.76428179]\n",
            " [0.76451858]\n",
            " [0.77464586]\n",
            " [0.77816398]\n",
            " [0.78410504]\n",
            " [0.78403738]\n",
            " [0.76957588]\n",
            " [0.75940209]\n",
            " [0.77563533]\n",
            " [0.77834158]\n",
            " [0.77566916]\n",
            " [0.76907269]\n",
            " [0.76593936]\n",
            " [0.77177893]\n",
            " [0.77047655]\n",
            " [0.78080257]\n",
            " [0.80157301]\n",
            " [0.81240222]\n",
            " [0.81542983]\n",
            " [0.81066007]\n",
            " [0.8123557 ]\n",
            " [0.81420356]\n",
            " [0.81438539]\n",
            " [0.82133283]\n",
            " [0.83526153]\n",
            " [0.83813269]\n",
            " [0.84249228]\n",
            " [0.8386232 ]\n",
            " [0.82861432]\n",
            " [0.83250032]\n",
            " [0.84333798]\n",
            " [0.84418791]\n",
            " [0.8443782 ]\n",
            " [0.85015434]\n",
            " [0.86925451]\n",
            " [0.8862658 ]\n",
            " [0.8815341 ]\n",
            " [0.89488773]\n",
            " [0.90245253]\n",
            " [0.90703624]\n",
            " [0.90570849]\n",
            " [0.90498118]\n",
            " [0.90631316]\n",
            " [0.90513341]\n",
            " [0.90722229]\n",
            " [0.9190156 ]\n",
            " [0.92832255]\n",
            " [0.92457186]\n",
            " [0.90865153]\n",
            " [0.92261406]\n",
            " [0.92131591]\n",
            " [0.94468265]\n",
            " [0.9472409 ]\n",
            " [0.94740158]\n",
            " [0.93839486]\n",
            " [0.93524039]\n",
            " [0.92736268]\n",
            " [0.92008119]\n",
            " [0.93354476]\n",
            " [0.94462768]\n",
            " [0.92971796]\n",
            " [0.94192566]\n",
            " [0.95079285]\n",
            " [0.95508478]\n",
            " [0.95897501]\n",
            " [0.97333502]\n",
            " [0.98828703]\n",
            " [1.        ]\n",
            " [0.99506956]\n",
            " [0.98220221]\n",
            " [0.97471775]\n",
            " [0.96937291]\n",
            " [0.9702609 ]\n",
            " [0.98235443]\n",
            " [0.97749588]\n",
            " [0.94758341]\n",
            " [0.93188718]]\n"
          ]
        }
      ]
    },
    {
      "cell_type": "code",
      "metadata": {
        "id": "6S-w4fJ5Mdxo"
      },
      "source": [
        " def create_dataset(dataset, time_step=1):\n",
        "   dataX, dataY = [], []\n",
        "   for i in range(len(dataset)-time_step-1):\n",
        "     a = dataset[i:(i+time_step), 0]\n",
        "     dataX.append(a)\n",
        "     dataY.append(dataset[i+time_step, 0])\n",
        "   return np.array(dataX), np.array(dataY)"
      ],
      "execution_count": 88,
      "outputs": []
    },
    {
      "cell_type": "code",
      "metadata": {
        "id": "sSaLMOw-Xg5k"
      },
      "source": [
        "time_step = 100\n",
        "X_train, Y_train = create_dataset(train_data, time_step)\n",
        "X_test, Y_test = create_dataset(test_data, time_step)"
      ],
      "execution_count": 89,
      "outputs": []
    },
    {
      "cell_type": "code",
      "metadata": {
        "colab": {
          "base_uri": "https://localhost:8080/"
        },
        "id": "Xf0QabfsYbZi",
        "outputId": "7c3421bf-03b0-49d5-944e-006d13d62744"
      },
      "source": [
        "print(X_train)\n",
        "print(Y_train)\n",
        "print(X_test)\n",
        "print(Y_test)"
      ],
      "execution_count": 90,
      "outputs": [
        {
          "output_type": "stream",
          "name": "stdout",
          "text": [
            "[[0.00579306 0.00845702 0.00706584 ... 0.10602985 0.10589877 0.10854582]\n",
            " [0.00845702 0.00706584 0.00353503 ... 0.10589877 0.10854582 0.11009345]\n",
            " [0.00706584 0.00353503 0.00359423 ... 0.10854582 0.11009345 0.11629667]\n",
            " ...\n",
            " [0.30985665 0.31252907 0.30855427 ... 0.35752463 0.35373589 0.35131295]\n",
            " [0.31252907 0.30855427 0.32200516 ... 0.35373589 0.35131295 0.35011628]\n",
            " [0.30855427 0.32200516 0.30293881 ... 0.35131295 0.35011628 0.35612077]]\n",
            "[0.11009345 0.11629667 0.12097763 ... 0.35011628 0.35612077 0.36660324]\n",
            "[[0.37258658 0.37065838 0.38187661 ... 0.37764388 0.36597319 0.36744048]\n",
            " [0.37065838 0.38187661 0.39313713 ... 0.36597319 0.36744048 0.35604465]\n",
            " [0.38187661 0.39313713 0.39656222 ... 0.36744048 0.35604465 0.36328809]\n",
            " ...\n",
            " [0.75467462 0.7643283  0.76262844 ... 0.97471775 0.96937291 0.9702609 ]\n",
            " [0.7643283  0.76262844 0.76951245 ... 0.96937291 0.9702609  0.98235443]\n",
            " [0.76262844 0.76951245 0.76853567 ... 0.9702609  0.98235443 0.97749588]]\n",
            "[0.35604465 0.36328809 0.3554442  0.3704089  0.37693771 0.36139372\n",
            " 0.37015096 0.37170705 0.37222293 0.36910229 0.36078904 0.34579052\n",
            " 0.35323269 0.37255698 0.37657406 0.37156328 0.36329232 0.36963085\n",
            " 0.35057296 0.35452662 0.35480147 0.36311472 0.36792253 0.37068375\n",
            " 0.36620999 0.37408347 0.36796059 0.352239   0.35418834 0.34269948\n",
            " 0.39085374 0.41842361 0.41740877 0.40489238 0.41597108 0.41099835\n",
            " 0.40778891 0.3981014  0.39421963 0.38244323 0.37835426 0.39416043\n",
            " 0.38750053 0.39346273 0.39651571 0.403886   0.40690515 0.41725232\n",
            " 0.42363736 0.41742146 0.41875344 0.41693518 0.41704512 0.42070278\n",
            " 0.43420863 0.43905028 0.44187069 0.44298279 0.4472705  0.44523236\n",
            " 0.44936361 0.45325384 0.444467   0.44491522 0.4387416  0.44141824\n",
            " 0.44339296 0.44246691 0.44716901 0.45215865 0.44956235 0.44499556\n",
            " 0.45847182 0.45542306 0.46075098 0.46501755 0.45697492 0.45631105\n",
            " 0.45174426 0.4558882  0.45379086 0.44559601 0.44694913 0.44012432\n",
            " 0.44463614 0.44984989 0.459567   0.45679733 0.46618885 0.47097975\n",
            " 0.47419764 0.47522094 0.47445558 0.4703793  0.46293712 0.47302212\n",
            " 0.47387205 0.46648061 0.46766882 0.47610047 0.4714026  0.451647\n",
            " 0.45671276 0.45437862 0.47049347 0.47395239 0.48010487 0.48287454\n",
            " 0.48126771 0.48229946 0.48203307 0.471225   0.46659901 0.46127532\n",
            " 0.467487   0.47322931 0.46229862 0.45695378 0.4631866  0.45526238\n",
            " 0.44902956 0.42363736 0.42753182 0.45051376 0.4597742  0.46390122\n",
            " 0.46055224 0.45489873 0.46135989 0.46925029 0.46700495 0.46182925\n",
            " 0.45610808 0.45160049 0.46288215 0.45907227 0.4378071  0.43514314\n",
            " 0.42504546 0.42122288 0.38472663 0.37889129 0.39331473 0.38889171\n",
            " 0.39041397 0.36677238 0.32127363 0.32186139 0.24843334 0.27930568\n",
            " 0.2152184  0.19573766 0.15360058 0.13623409 0.17699691 0.08099285\n",
            " 0.09712884 0.14083471 0.16820162 0.16979153 0.13772675 0.1645059\n",
            " 0.13541799 0.12104106 0.18095057 0.17727599 0.20798765 0.19800414\n",
            " 0.19220686 0.19791535 0.22108334 0.22066895 0.19695547 0.21436424\n",
            " 0.22507083 0.21158189 0.22239841 0.23073703 0.24532116 0.27124614\n",
            " 0.2233456  0.21591188 0.22143431 0.21535794 0.21979365 0.21875344\n",
            " 0.21514652 0.23096114 0.21059664 0.21009768 0.18357647 0.18829972\n",
            " 0.2041524  0.20750983 0.20184363 0.20098101 0.22515963 0.23997209\n",
            " 0.24760032 0.2683919  0.28132691 0.28829972 0.28555541 0.29511607\n",
            " 0.2972557  0.28703962 0.29291725 0.27480655 0.28080257 0.267339\n",
            " 0.27582139 0.27304326 0.29084528 0.30376337 0.30941266 0.32292697\n",
            " 0.3089137  0.30752675 0.3154848  0.30951414 0.30864307 0.31946383\n",
            " 0.32975179 0.33445812 0.34767643 0.35072096 0.34277982 0.35188803\n",
            " 0.34804854 0.3509789  0.33445812 0.3353757  0.34567212 0.35935135\n",
            " 0.36954205 0.38138611 0.3788786  0.38588524 0.38408389 0.37881094\n",
            " 0.39308216 0.38481965 0.37630344 0.37387627 0.35849719 0.3757199\n",
            " 0.37626115 0.38459131 0.38576684 0.39051123 0.39493848 0.39374604\n",
            " 0.3930737  0.38275191 0.38856188 0.40025371 0.40220305 0.3940674\n",
            " 0.39909087 0.40711235 0.40760286 0.41414436 0.41496046 0.42243224\n",
            " 0.40043554 0.40743372 0.41290964 0.41227113 0.39589835 0.39769123\n",
            " 0.39450294 0.3911751  0.40565774 0.40694321 0.4048797  0.41179331\n",
            " 0.41879149 0.41131126 0.4103683  0.38885365 0.3806588  0.37881517\n",
            " 0.35121992 0.37191425 0.38690854 0.386473   0.38859994 0.40292613\n",
            " 0.41023299 0.42368388 0.43014927 0.43824686 0.44497865 0.4463952\n",
            " 0.44669542 0.44978646 0.42520191 0.43214512 0.44149858 0.44350713\n",
            " 0.44696182 0.44347753 0.44634445 0.43259334 0.44288131 0.42936699\n",
            " 0.42439427 0.42199247 0.42425473 0.43646243 0.4444966  0.46240856\n",
            " 0.47452324 0.49122584 0.505607   0.51559051 0.51065584 0.51312106\n",
            " 0.51822064 0.52616601 0.53158273 0.51749757 0.52488477 0.5305848\n",
            " 0.54146898 0.5248298  0.53570553 0.53417904 0.54602732 0.5464248\n",
            " 0.54812888 0.55867056 0.56689078 0.57003679 0.58155102 0.57725485\n",
            " 0.58026132 0.58400778 0.58482811 0.594541   0.59944607 0.60112478\n",
            " 0.56457778 0.57624001 0.58764007 0.60016914 0.61065161 0.61567508\n",
            " 0.61984862 0.61983171 0.62293966 0.63261449 0.63824686 0.6337435\n",
            " 0.63299082 0.6507421  0.6623705  0.66902617 0.66914457 0.67174511\n",
            " 0.65805319 0.6451647  0.66544886 0.6758975  0.67130111 0.65282676\n",
            " 0.64157893 0.61862658 0.60594528 0.59047317 0.64515624 0.6761639\n",
            " 0.68818132 0.69712039 0.69953909 0.71573851 0.7151888  0.71495201\n",
            " 0.72060129 0.71975559 0.73255952 0.7324538  0.72361199 0.71600491\n",
            " 0.70440188 0.67851918 0.68123388 0.70442302 0.71417819 0.66612542\n",
            " 0.68577953 0.69910356 0.72671572 0.71277432 0.70071039 0.70224111\n",
            " 0.71426699 0.72072815 0.70856273 0.69998309 0.69837202 0.68237558\n",
            " 0.66855258 0.68429532 0.68365259 0.69027866 0.66783796 0.64885196\n",
            " 0.66427756 0.69284536 0.67978773 0.69472705 0.67531397 0.67917882\n",
            " 0.69064231 0.69527253 0.69197852 0.64765952 0.66406613 0.67054844\n",
            " 0.67362679 0.65177386 0.64644171 0.65572329 0.65024314 0.66239164\n",
            " 0.67660366 0.69449025 0.69705696 0.67474735 0.67500529 0.6633642\n",
            " 0.67362679 0.68267157 0.69098905 0.70106981 0.69332318 0.68027824\n",
            " 0.67869677 0.69944607 0.71508732 0.70849507 0.69799992 0.72077043\n",
            " 0.72266481 0.72357394 0.73143896 0.73451732 0.74278828 0.75523278\n",
            " 0.75456045 0.75467462 0.7643283  0.76262844 0.76951245 0.76853567\n",
            " 0.75967694 0.76833693 0.77354645 0.77460358 0.77945791 0.77085712\n",
            " 0.7644171  0.76373631 0.76907692 0.77129688 0.76404076 0.77279378\n",
            " 0.77870523 0.7748446  0.76924183 0.76696266 0.763453   0.76702186\n",
            " 0.77650641 0.77514483 0.78033743 0.76750391 0.76428179 0.76451858\n",
            " 0.77464586 0.77816398 0.78410504 0.78403738 0.76957588 0.75940209\n",
            " 0.77563533 0.77834158 0.77566916 0.76907269 0.76593936 0.77177893\n",
            " 0.77047655 0.78080257 0.80157301 0.81240222 0.81542983 0.81066007\n",
            " 0.8123557  0.81420356 0.81438539 0.82133283 0.83526153 0.83813269\n",
            " 0.84249228 0.8386232  0.82861432 0.83250032 0.84333798 0.84418791\n",
            " 0.8443782  0.85015434 0.86925451 0.8862658  0.8815341  0.89488773\n",
            " 0.90245253 0.90703624 0.90570849 0.90498118 0.90631316 0.90513341\n",
            " 0.90722229 0.9190156  0.92832255 0.92457186 0.90865153 0.92261406\n",
            " 0.92131591 0.94468265 0.9472409  0.94740158 0.93839486 0.93524039\n",
            " 0.92736268 0.92008119 0.93354476 0.94462768 0.92971796 0.94192566\n",
            " 0.95079285 0.95508478 0.95897501 0.97333502 0.98828703 1.\n",
            " 0.99506956 0.98220221 0.97471775 0.96937291 0.9702609  0.98235443\n",
            " 0.97749588 0.94758341]\n"
          ]
        }
      ]
    },
    {
      "cell_type": "code",
      "metadata": {
        "colab": {
          "base_uri": "https://localhost:8080/"
        },
        "id": "HntjqhxRYlYI",
        "outputId": "7e777efc-9da9-4ed1-df1e-8d39ca5a9c62"
      },
      "source": [
        "print(X_train.shape)\n",
        "print(Y_train.shape)\n",
        "print(X_test.shape)\n",
        "print(Y_test.shape)"
      ],
      "execution_count": 91,
      "outputs": [
        {
          "output_type": "stream",
          "name": "stdout",
          "text": [
            "(1114, 100)\n",
            "(1114,)\n",
            "(554, 100)\n",
            "(554,)\n"
          ]
        }
      ]
    },
    {
      "cell_type": "code",
      "metadata": {
        "id": "hO1MdB70ZXhS"
      },
      "source": [
        "X_train = X_train.reshape(X_train.shape[0], X_train.shape[1], 1)\n",
        "X_test = X_test.reshape(X_test.shape[0], X_test.shape[1], 1)"
      ],
      "execution_count": 92,
      "outputs": []
    },
    {
      "cell_type": "markdown",
      "metadata": {
        "id": "EyGz5QPZZuzN"
      },
      "source": [
        "# **Stack LSTM Model**"
      ]
    },
    {
      "cell_type": "code",
      "metadata": {
        "id": "fFTLKaBcZzQ-"
      },
      "source": [
        "from tensorflow.keras.models import Sequential\n",
        "from tensorflow.keras.layers import Dense\n",
        "from tensorflow.keras.layers import LSTM"
      ],
      "execution_count": 93,
      "outputs": []
    },
    {
      "cell_type": "code",
      "metadata": {
        "id": "OfZbSyxYaDzi"
      },
      "source": [
        "model = Sequential()\n",
        "model.add(LSTM(50, return_sequences=True, input_shape=(100,1)))\n",
        "model.add(LSTM(50, return_sequences=True))\n",
        "model.add(LSTM(50))\n",
        "model.add(Dense(1))\n",
        "model.compile(loss='mean_squared_error', optimizer='adam')"
      ],
      "execution_count": 94,
      "outputs": []
    },
    {
      "cell_type": "code",
      "metadata": {
        "colab": {
          "base_uri": "https://localhost:8080/"
        },
        "id": "Fu_Cc1OCa8QN",
        "outputId": "a41495e4-f910-4a78-eb78-16cc8d8cc71c"
      },
      "source": [
        "model.summary()"
      ],
      "execution_count": 95,
      "outputs": [
        {
          "output_type": "stream",
          "name": "stdout",
          "text": [
            "Model: \"sequential_1\"\n",
            "_________________________________________________________________\n",
            "Layer (type)                 Output Shape              Param #   \n",
            "=================================================================\n",
            "lstm_3 (LSTM)                (None, 100, 50)           10400     \n",
            "_________________________________________________________________\n",
            "lstm_4 (LSTM)                (None, 100, 50)           20200     \n",
            "_________________________________________________________________\n",
            "lstm_5 (LSTM)                (None, 50)                20200     \n",
            "_________________________________________________________________\n",
            "dense_1 (Dense)              (None, 1)                 51        \n",
            "=================================================================\n",
            "Total params: 50,851\n",
            "Trainable params: 50,851\n",
            "Non-trainable params: 0\n",
            "_________________________________________________________________\n"
          ]
        }
      ]
    },
    {
      "cell_type": "code",
      "metadata": {
        "colab": {
          "base_uri": "https://localhost:8080/"
        },
        "id": "2gupbseBbCOT",
        "outputId": "fdae8b83-14dd-41b1-b70d-4054e1c4a1cc"
      },
      "source": [
        "model.fit(X_train, Y_train, validation_data=(X_test, Y_test), epochs=6, batch_size=64, verbose=1)"
      ],
      "execution_count": 96,
      "outputs": [
        {
          "output_type": "stream",
          "name": "stdout",
          "text": [
            "Epoch 1/6\n",
            "18/18 [==============================] - 9s 240ms/step - loss: 0.0116 - val_loss: 0.0433\n",
            "Epoch 2/6\n",
            "18/18 [==============================] - 3s 175ms/step - loss: 0.0016 - val_loss: 0.0094\n",
            "Epoch 3/6\n",
            "18/18 [==============================] - 3s 183ms/step - loss: 5.1729e-04 - val_loss: 0.0024\n",
            "Epoch 4/6\n",
            "18/18 [==============================] - 3s 190ms/step - loss: 3.9261e-04 - val_loss: 0.0036\n",
            "Epoch 5/6\n",
            "18/18 [==============================] - 3s 181ms/step - loss: 3.7760e-04 - val_loss: 0.0028\n",
            "Epoch 6/6\n",
            "18/18 [==============================] - 3s 176ms/step - loss: 3.7966e-04 - val_loss: 0.0030\n"
          ]
        },
        {
          "output_type": "execute_result",
          "data": {
            "text/plain": [
              "<keras.callbacks.History at 0x7fa1484ffe90>"
            ]
          },
          "metadata": {},
          "execution_count": 96
        }
      ]
    },
    {
      "cell_type": "code",
      "metadata": {
        "id": "jqx4FSWVfboE"
      },
      "source": [
        "import tensorflow as tf"
      ],
      "execution_count": 97,
      "outputs": []
    },
    {
      "cell_type": "code",
      "metadata": {
        "colab": {
          "base_uri": "https://localhost:8080/",
          "height": 35
        },
        "id": "bAi4LHtcg1qT",
        "outputId": "2a2fa6f8-6002-4686-edd5-b64fd02fa50f"
      },
      "source": [
        "tf.__version__"
      ],
      "execution_count": 98,
      "outputs": [
        {
          "output_type": "execute_result",
          "data": {
            "application/vnd.google.colaboratory.intrinsic+json": {
              "type": "string"
            },
            "text/plain": [
              "'2.6.0'"
            ]
          },
          "metadata": {},
          "execution_count": 98
        }
      ]
    },
    {
      "cell_type": "code",
      "metadata": {
        "id": "DMeFBPhUg4O0"
      },
      "source": [
        "train_predict = model.predict(X_train)\n",
        "test_predict = model.predict(X_test)"
      ],
      "execution_count": 99,
      "outputs": []
    },
    {
      "cell_type": "code",
      "metadata": {
        "id": "Fi8RjobShOML"
      },
      "source": [
        "train_predict = scaler.inverse_transform(train_predict)\n",
        "test_predict = scaler.inverse_transform(test_predict)"
      ],
      "execution_count": 100,
      "outputs": []
    },
    {
      "cell_type": "code",
      "metadata": {
        "colab": {
          "base_uri": "https://localhost:8080/"
        },
        "id": "74Ic6a6Hhh-O",
        "outputId": "56766798-e917-425d-c5b8-5481a9660cee"
      },
      "source": [
        "import math\n",
        "from sklearn.metrics import mean_squared_error\n",
        "math.sqrt(mean_squared_error(Y_train, train_predict))"
      ],
      "execution_count": 101,
      "outputs": [
        {
          "output_type": "execute_result",
          "data": {
            "text/plain": [
              "9245.747973693235"
            ]
          },
          "metadata": {},
          "execution_count": 101
        }
      ]
    },
    {
      "cell_type": "code",
      "metadata": {
        "colab": {
          "base_uri": "https://localhost:8080/"
        },
        "id": "HafAu6PDh_2L",
        "outputId": "56409fd2-bd5a-486a-b562-b4caccffa190"
      },
      "source": [
        "math.sqrt(mean_squared_error(Y_test, test_predict))"
      ],
      "execution_count": 102,
      "outputs": [
        {
          "output_type": "execute_result",
          "data": {
            "text/plain": [
              "12839.89494793921"
            ]
          },
          "metadata": {},
          "execution_count": 102
        }
      ]
    },
    {
      "cell_type": "code",
      "metadata": {
        "id": "oJvD4hezidte"
      },
      "source": [
        "look_back = 100\n",
        "trainPredictPlot = np.empty_like(df)\n",
        "trainPredictPlot[:,:]=np.nan\n",
        "trainPredictPlot[look_back:len(train_predict)+look_back,:] = train_predict\n",
        "testPredictPlot = np.empty_like(df)\n",
        "testPredictPlot[:, :] = np.nan\n",
        "testPredictPlot[len(train_predict)+(look_back*2)+1:len(df)-1,:] = test_predict"
      ],
      "execution_count": 103,
      "outputs": []
    },
    {
      "cell_type": "code",
      "metadata": {
        "colab": {
          "base_uri": "https://localhost:8080/",
          "height": 282
        },
        "id": "Mo5Cpm5cjffq",
        "outputId": "851ea413-961d-4c17-91b9-ba7fcda20ee0"
      },
      "source": [
        "plt.plot(scaler.inverse_transform(df))\n",
        "plt.plot(trainPredictPlot)\n",
        "plt.plot(testPredictPlot)\n",
        "plt.plot()"
      ],
      "execution_count": 104,
      "outputs": [
        {
          "output_type": "execute_result",
          "data": {
            "text/plain": [
              "[]"
            ]
          },
          "metadata": {},
          "execution_count": 104
        },
        {
          "output_type": "display_data",
          "data": {
            "image/png": "[encoded data removed]",
            "text/plain": [
              "<Figure size 432x288 with 1 Axes>"
            ]
          },
          "metadata": {
            "needs_background": "light"
          }
        }
      ]
    },
    {
      "cell_type": "code",
      "metadata": {
        "colab": {
          "base_uri": "https://localhost:8080/"
        },
        "id": "8sIUw32lkNNZ",
        "outputId": "d8539490-29e7-4712-fffe-7b61388f1d52"
      },
      "source": [
        "len(test_data)"
      ],
      "execution_count": 105,
      "outputs": [
        {
          "output_type": "execute_result",
          "data": {
            "text/plain": [
              "655"
            ]
          },
          "metadata": {},
          "execution_count": 105
        }
      ]
    },
    {
      "cell_type": "code",
      "metadata": {
        "colab": {
          "base_uri": "https://localhost:8080/"
        },
        "id": "LcSJmyEYlISB",
        "outputId": "d6bb9a12-7183-423b-8f62-33dd289c9ebf"
      },
      "source": [
        "x_input = test_data[555:].reshape(1, -1)\n",
        "x_input.shape"
      ],
      "execution_count": 106,
      "outputs": [
        {
          "output_type": "execute_result",
          "data": {
            "text/plain": [
              "(1, 100)"
            ]
          },
          "metadata": {},
          "execution_count": 106
        }
      ]
    },
    {
      "cell_type": "code",
      "metadata": {
        "id": "RnZwQEwBlWpm"
      },
      "source": [
        "temp_input = list(x_input)\n",
        "temp_input = temp_input[0].tolist()"
      ],
      "execution_count": 107,
      "outputs": []
    },
    {
      "cell_type": "code",
      "metadata": {
        "colab": {
          "base_uri": "https://localhost:8080/"
        },
        "id": "xl6I4Gfal6uy",
        "outputId": "7d486c75-6e96-4b7e-84f3-0e95b9323e9d"
      },
      "source": [
        "temp_input"
      ],
      "execution_count": 108,
      "outputs": [
        {
          "output_type": "execute_result",
          "data": {
            "text/plain": [
              "[0.7685356674700833,\n",
              " 0.759676941942577,\n",
              " 0.7683369275656476,\n",
              " 0.7735464501670261,\n",
              " 0.7746035773182799,\n",
              " 0.779457905196837,\n",
              " 0.7708571186942365,\n",
              " 0.7644171000887986,\n",
              " 0.7637363102033913,\n",
              " 0.7690769165715253,\n",
              " 0.7712968835891582,\n",
              " 0.7640407628229525,\n",
              " 0.7727937756353335,\n",
              " 0.7787052306651444,\n",
              " 0.7748446023087657,\n",
              " 0.7692418284071209,\n",
              " 0.7669626622690177,\n",
              " 0.7634530001268552,\n",
              " 0.767021861389488,\n",
              " 0.7765064061905366,\n",
              " 0.7751448264197217,\n",
              " 0.7803374349866802,\n",
              " 0.7675039113704597,\n",
              " 0.7642817878134381,\n",
              " 0.7645185842953192,\n",
              " 0.7746458624043301,\n",
              " 0.7781639815637026,\n",
              " 0.7841050361537486,\n",
              " 0.7840373800160684,\n",
              " 0.769575880586917,\n",
              " 0.759402088883251,\n",
              " 0.7756353334179035,\n",
              " 0.778341578925113,\n",
              " 0.7756691614867438,\n",
              " 0.7690726880629203,\n",
              " 0.7659393631866042,\n",
              " 0.7717789335701298,\n",
              " 0.7704765529197851,\n",
              " 0.7808025709332319,\n",
              " 0.8015730052010656,\n",
              " 0.812402215738509,\n",
              " 0.8154298278996998,\n",
              " 0.8106600701932428,\n",
              " 0.8123557021438538,\n",
              " 0.8142035604042456,\n",
              " 0.814385386274261,\n",
              " 0.8213328259123006,\n",
              " 0.8352615332572201,\n",
              " 0.8381326906000254,\n",
              " 0.8424922829717957,\n",
              " 0.8386231975982069,\n",
              " 0.8286143177301365,\n",
              " 0.8325003171381454,\n",
              " 0.8433379846927987,\n",
              " 0.8441879149224071,\n",
              " 0.8443781978096326,\n",
              " 0.8501543405640831,\n",
              " 0.8692545139329358,\n",
              " 0.8862658040509114,\n",
              " 0.8815341029218994,\n",
              " 0.8948877330965369,\n",
              " 0.9024525349909086,\n",
              " 0.907036238318745,\n",
              " 0.9057084866167701,\n",
              " 0.9049811831367077,\n",
              " 0.9063131633472875,\n",
              " 0.9051334094464881,\n",
              " 0.9072222926973658,\n",
              " 0.9190156031967526,\n",
              " 0.9283225506363905,\n",
              " 0.9245718635037424,\n",
              " 0.9086515286058608,\n",
              " 0.9226140640196202,\n",
              " 0.9213159118778808,\n",
              " 0.9446826504291937,\n",
              " 0.9472408981352277,\n",
              " 0.9474015814622182,\n",
              " 0.9383948581335363,\n",
              " 0.935240390714195,\n",
              " 0.9273626791830524,\n",
              " 0.9200811873652163,\n",
              " 0.933544758763584,\n",
              " 0.9446276798173284,\n",
              " 0.9297179584760454,\n",
              " 0.9419256628187237,\n",
              " 0.9507928453634403,\n",
              " 0.9550847815975306,\n",
              " 0.9589750095141444,\n",
              " 0.9733350247367752,\n",
              " 0.9882870311641084,\n",
              " 0.9999999999999999,\n",
              " 0.9950695589665525,\n",
              " 0.9822022072814917,\n",
              " 0.9747177470506151,\n",
              " 0.9693729121738764,\n",
              " 0.9702608989809295,\n",
              " 0.9823544335912725,\n",
              " 0.9774958772041101,\n",
              " 0.9475834073322339,\n",
              " 0.9318871833904184]"
            ]
          },
          "metadata": {},
          "execution_count": 108
        }
      ]
    },
    {
      "cell_type": "code",
      "metadata": {
        "colab": {
          "base_uri": "https://localhost:8080/"
        },
        "id": "-SxQ6gGcmCUE",
        "outputId": "9b815e81-9320-438a-b3c4-b430c43d3705"
      },
      "source": [
        "lst_output = []\n",
        "n_steps = 100\n",
        "i = 0\n",
        "while(i<30):\n",
        "  if(len(temp_input)>100):\n",
        "    x_input=np.array(temp_input[1:])\n",
        "    print(\"{} day input {}\".format(i, x_input))\n",
        "    x_input = x_input.reshape(1, -1)\n",
        "    x_input = x_input.reshape((1, n_steps, 1))\n",
        "    yhat = model.predict(x_input, verbose=0)\n",
        "    print(\"{} day output {}\".format(i, yhat))\n",
        "    temp_input.extend(yhat[0].tolist())\n",
        "    temp_input = temp_input[1:]\n",
        "    lst_output.extend(yhat.tolist())\n",
        "    i=i+1\n",
        "  else:\n",
        "    x_input = x_input.reshape((1, n_steps, 1))\n",
        "    yhat = model.predict(x_input, verbose = 0)\n",
        "    print(yhat[0])\n",
        "    temp_input.extend(yhat[0].tolist())\n",
        "    print(len(temp_input))\n",
        "    lst_output.extend(yhat.tolist())\n",
        "    i=i+1\n",
        "print(lst_output)"
      ],
      "execution_count": 109,
      "outputs": [
        {
          "output_type": "stream",
          "name": "stdout",
          "text": [
            "[0.889928]\n",
            "101\n",
            "1 day input [0.75967694 0.76833693 0.77354645 0.77460358 0.77945791 0.77085712\n",
            " 0.7644171  0.76373631 0.76907692 0.77129688 0.76404076 0.77279378\n",
            " 0.77870523 0.7748446  0.76924183 0.76696266 0.763453   0.76702186\n",
            " 0.77650641 0.77514483 0.78033743 0.76750391 0.76428179 0.76451858\n",
            " 0.77464586 0.77816398 0.78410504 0.78403738 0.76957588 0.75940209\n",
            " 0.77563533 0.77834158 0.77566916 0.76907269 0.76593936 0.77177893\n",
            " 0.77047655 0.78080257 0.80157301 0.81240222 0.81542983 0.81066007\n",
            " 0.8123557  0.81420356 0.81438539 0.82133283 0.83526153 0.83813269\n",
            " 0.84249228 0.8386232  0.82861432 0.83250032 0.84333798 0.84418791\n",
            " 0.8443782  0.85015434 0.86925451 0.8862658  0.8815341  0.89488773\n",
            " 0.90245253 0.90703624 0.90570849 0.90498118 0.90631316 0.90513341\n",
            " 0.90722229 0.9190156  0.92832255 0.92457186 0.90865153 0.92261406\n",
            " 0.92131591 0.94468265 0.9472409  0.94740158 0.93839486 0.93524039\n",
            " 0.92736268 0.92008119 0.93354476 0.94462768 0.92971796 0.94192566\n",
            " 0.95079285 0.95508478 0.95897501 0.97333502 0.98828703 1.\n",
            " 0.99506956 0.98220221 0.97471775 0.96937291 0.9702609  0.98235443\n",
            " 0.97749588 0.94758341 0.93188718 0.88992798]\n",
            "1 day output [[0.89004993]]\n",
            "2 day input [0.76833693 0.77354645 0.77460358 0.77945791 0.77085712 0.7644171\n",
            " 0.76373631 0.76907692 0.77129688 0.76404076 0.77279378 0.77870523\n",
            " 0.7748446  0.76924183 0.76696266 0.763453   0.76702186 0.77650641\n",
            " 0.77514483 0.78033743 0.76750391 0.76428179 0.76451858 0.77464586\n",
            " 0.77816398 0.78410504 0.78403738 0.76957588 0.75940209 0.77563533\n",
            " 0.77834158 0.77566916 0.76907269 0.76593936 0.77177893 0.77047655\n",
            " 0.78080257 0.80157301 0.81240222 0.81542983 0.81066007 0.8123557\n",
            " 0.81420356 0.81438539 0.82133283 0.83526153 0.83813269 0.84249228\n",
            " 0.8386232  0.82861432 0.83250032 0.84333798 0.84418791 0.8443782\n",
            " 0.85015434 0.86925451 0.8862658  0.8815341  0.89488773 0.90245253\n",
            " 0.90703624 0.90570849 0.90498118 0.90631316 0.90513341 0.90722229\n",
            " 0.9190156  0.92832255 0.92457186 0.90865153 0.92261406 0.92131591\n",
            " 0.94468265 0.9472409  0.94740158 0.93839486 0.93524039 0.92736268\n",
            " 0.92008119 0.93354476 0.94462768 0.92971796 0.94192566 0.95079285\n",
            " 0.95508478 0.95897501 0.97333502 0.98828703 1.         0.99506956\n",
            " 0.98220221 0.97471775 0.96937291 0.9702609  0.98235443 0.97749588\n",
            " 0.94758341 0.93188718 0.88992798 0.89004993]\n",
            "2 day output [[0.8893054]]\n",
            "3 day input [0.77354645 0.77460358 0.77945791 0.77085712 0.7644171  0.76373631\n",
            " 0.76907692 0.77129688 0.76404076 0.77279378 0.77870523 0.7748446\n",
            " 0.76924183 0.76696266 0.763453   0.76702186 0.77650641 0.77514483\n",
            " 0.78033743 0.76750391 0.76428179 0.76451858 0.77464586 0.77816398\n",
            " 0.78410504 0.78403738 0.76957588 0.75940209 0.77563533 0.77834158\n",
            " 0.77566916 0.76907269 0.76593936 0.77177893 0.77047655 0.78080257\n",
            " 0.80157301 0.81240222 0.81542983 0.81066007 0.8123557  0.81420356\n",
            " 0.81438539 0.82133283 0.83526153 0.83813269 0.84249228 0.8386232\n",
            " 0.82861432 0.83250032 0.84333798 0.84418791 0.8443782  0.85015434\n",
            " 0.86925451 0.8862658  0.8815341  0.89488773 0.90245253 0.90703624\n",
            " 0.90570849 0.90498118 0.90631316 0.90513341 0.90722229 0.9190156\n",
            " 0.92832255 0.92457186 0.90865153 0.92261406 0.92131591 0.94468265\n",
            " 0.9472409  0.94740158 0.93839486 0.93524039 0.92736268 0.92008119\n",
            " 0.93354476 0.94462768 0.92971796 0.94192566 0.95079285 0.95508478\n",
            " 0.95897501 0.97333502 0.98828703 1.         0.99506956 0.98220221\n",
            " 0.97471775 0.96937291 0.9702609  0.98235443 0.97749588 0.94758341\n",
            " 0.93188718 0.88992798 0.89004993 0.88930541]\n",
            "3 day output [[0.88775575]]\n",
            "4 day input [0.77460358 0.77945791 0.77085712 0.7644171  0.76373631 0.76907692\n",
            " 0.77129688 0.76404076 0.77279378 0.77870523 0.7748446  0.76924183\n",
            " 0.76696266 0.763453   0.76702186 0.77650641 0.77514483 0.78033743\n",
            " 0.76750391 0.76428179 0.76451858 0.77464586 0.77816398 0.78410504\n",
            " 0.78403738 0.76957588 0.75940209 0.77563533 0.77834158 0.77566916\n",
            " 0.76907269 0.76593936 0.77177893 0.77047655 0.78080257 0.80157301\n",
            " 0.81240222 0.81542983 0.81066007 0.8123557  0.81420356 0.81438539\n",
            " 0.82133283 0.83526153 0.83813269 0.84249228 0.8386232  0.82861432\n",
            " 0.83250032 0.84333798 0.84418791 0.8443782  0.85015434 0.86925451\n",
            " 0.8862658  0.8815341  0.89488773 0.90245253 0.90703624 0.90570849\n",
            " 0.90498118 0.90631316 0.90513341 0.90722229 0.9190156  0.92832255\n",
            " 0.92457186 0.90865153 0.92261406 0.92131591 0.94468265 0.9472409\n",
            " 0.94740158 0.93839486 0.93524039 0.92736268 0.92008119 0.93354476\n",
            " 0.94462768 0.92971796 0.94192566 0.95079285 0.95508478 0.95897501\n",
            " 0.97333502 0.98828703 1.         0.99506956 0.98220221 0.97471775\n",
            " 0.96937291 0.9702609  0.98235443 0.97749588 0.94758341 0.93188718\n",
            " 0.88992798 0.89004993 0.88930541 0.88775575]\n",
            "4 day output [[0.885515]]\n",
            "5 day input [0.77945791 0.77085712 0.7644171  0.76373631 0.76907692 0.77129688\n",
            " 0.76404076 0.77279378 0.77870523 0.7748446  0.76924183 0.76696266\n",
            " 0.763453   0.76702186 0.77650641 0.77514483 0.78033743 0.76750391\n",
            " 0.76428179 0.76451858 0.77464586 0.77816398 0.78410504 0.78403738\n",
            " 0.76957588 0.75940209 0.77563533 0.77834158 0.77566916 0.76907269\n",
            " 0.76593936 0.77177893 0.77047655 0.78080257 0.80157301 0.81240222\n",
            " 0.81542983 0.81066007 0.8123557  0.81420356 0.81438539 0.82133283\n",
            " 0.83526153 0.83813269 0.84249228 0.8386232  0.82861432 0.83250032\n",
            " 0.84333798 0.84418791 0.8443782  0.85015434 0.86925451 0.8862658\n",
            " 0.8815341  0.89488773 0.90245253 0.90703624 0.90570849 0.90498118\n",
            " 0.90631316 0.90513341 0.90722229 0.9190156  0.92832255 0.92457186\n",
            " 0.90865153 0.92261406 0.92131591 0.94468265 0.9472409  0.94740158\n",
            " 0.93839486 0.93524039 0.92736268 0.92008119 0.93354476 0.94462768\n",
            " 0.92971796 0.94192566 0.95079285 0.95508478 0.95897501 0.97333502\n",
            " 0.98828703 1.         0.99506956 0.98220221 0.97471775 0.96937291\n",
            " 0.9702609  0.98235443 0.97749588 0.94758341 0.93188718 0.88992798\n",
            " 0.89004993 0.88930541 0.88775575 0.88551497]\n",
            "5 day output [[0.88271576]]\n",
            "6 day input [0.77085712 0.7644171  0.76373631 0.76907692 0.77129688 0.76404076\n",
            " 0.77279378 0.77870523 0.7748446  0.76924183 0.76696266 0.763453\n",
            " 0.76702186 0.77650641 0.77514483 0.78033743 0.76750391 0.76428179\n",
            " 0.76451858 0.77464586 0.77816398 0.78410504 0.78403738 0.76957588\n",
            " 0.75940209 0.77563533 0.77834158 0.77566916 0.76907269 0.76593936\n",
            " 0.77177893 0.77047655 0.78080257 0.80157301 0.81240222 0.81542983\n",
            " 0.81066007 0.8123557  0.81420356 0.81438539 0.82133283 0.83526153\n",
            " 0.83813269 0.84249228 0.8386232  0.82861432 0.83250032 0.84333798\n",
            " 0.84418791 0.8443782  0.85015434 0.86925451 0.8862658  0.8815341\n",
            " 0.89488773 0.90245253 0.90703624 0.90570849 0.90498118 0.90631316\n",
            " 0.90513341 0.90722229 0.9190156  0.92832255 0.92457186 0.90865153\n",
            " 0.92261406 0.92131591 0.94468265 0.9472409  0.94740158 0.93839486\n",
            " 0.93524039 0.92736268 0.92008119 0.93354476 0.94462768 0.92971796\n",
            " 0.94192566 0.95079285 0.95508478 0.95897501 0.97333502 0.98828703\n",
            " 1.         0.99506956 0.98220221 0.97471775 0.96937291 0.9702609\n",
            " 0.98235443 0.97749588 0.94758341 0.93188718 0.88992798 0.89004993\n",
            " 0.88930541 0.88775575 0.88551497 0.88271576]\n",
            "6 day output [[0.87948865]]\n",
            "7 day input [0.7644171  0.76373631 0.76907692 0.77129688 0.76404076 0.77279378\n",
            " 0.77870523 0.7748446  0.76924183 0.76696266 0.763453   0.76702186\n",
            " 0.77650641 0.77514483 0.78033743 0.76750391 0.76428179 0.76451858\n",
            " 0.77464586 0.77816398 0.78410504 0.78403738 0.76957588 0.75940209\n",
            " 0.77563533 0.77834158 0.77566916 0.76907269 0.76593936 0.77177893\n",
            " 0.77047655 0.78080257 0.80157301 0.81240222 0.81542983 0.81066007\n",
            " 0.8123557  0.81420356 0.81438539 0.82133283 0.83526153 0.83813269\n",
            " 0.84249228 0.8386232  0.82861432 0.83250032 0.84333798 0.84418791\n",
            " 0.8443782  0.85015434 0.86925451 0.8862658  0.8815341  0.89488773\n",
            " 0.90245253 0.90703624 0.90570849 0.90498118 0.90631316 0.90513341\n",
            " 0.90722229 0.9190156  0.92832255 0.92457186 0.90865153 0.92261406\n",
            " 0.92131591 0.94468265 0.9472409  0.94740158 0.93839486 0.93524039\n",
            " 0.92736268 0.92008119 0.93354476 0.94462768 0.92971796 0.94192566\n",
            " 0.95079285 0.95508478 0.95897501 0.97333502 0.98828703 1.\n",
            " 0.99506956 0.98220221 0.97471775 0.96937291 0.9702609  0.98235443\n",
            " 0.97749588 0.94758341 0.93188718 0.88992798 0.89004993 0.88930541\n",
            " 0.88775575 0.88551497 0.88271576 0.87948865]\n",
            "7 day output [[0.8759515]]\n",
            "8 day input [0.76373631 0.76907692 0.77129688 0.76404076 0.77279378 0.77870523\n",
            " 0.7748446  0.76924183 0.76696266 0.763453   0.76702186 0.77650641\n",
            " 0.77514483 0.78033743 0.76750391 0.76428179 0.76451858 0.77464586\n",
            " 0.77816398 0.78410504 0.78403738 0.76957588 0.75940209 0.77563533\n",
            " 0.77834158 0.77566916 0.76907269 0.76593936 0.77177893 0.77047655\n",
            " 0.78080257 0.80157301 0.81240222 0.81542983 0.81066007 0.8123557\n",
            " 0.81420356 0.81438539 0.82133283 0.83526153 0.83813269 0.84249228\n",
            " 0.8386232  0.82861432 0.83250032 0.84333798 0.84418791 0.8443782\n",
            " 0.85015434 0.86925451 0.8862658  0.8815341  0.89488773 0.90245253\n",
            " 0.90703624 0.90570849 0.90498118 0.90631316 0.90513341 0.90722229\n",
            " 0.9190156  0.92832255 0.92457186 0.90865153 0.92261406 0.92131591\n",
            " 0.94468265 0.9472409  0.94740158 0.93839486 0.93524039 0.92736268\n",
            " 0.92008119 0.93354476 0.94462768 0.92971796 0.94192566 0.95079285\n",
            " 0.95508478 0.95897501 0.97333502 0.98828703 1.         0.99506956\n",
            " 0.98220221 0.97471775 0.96937291 0.9702609  0.98235443 0.97749588\n",
            " 0.94758341 0.93188718 0.88992798 0.89004993 0.88930541 0.88775575\n",
            " 0.88551497 0.88271576 0.87948865 0.87595153]\n",
            "8 day output [[0.8722051]]\n",
            "9 day input [0.76907692 0.77129688 0.76404076 0.77279378 0.77870523 0.7748446\n",
            " 0.76924183 0.76696266 0.763453   0.76702186 0.77650641 0.77514483\n",
            " 0.78033743 0.76750391 0.76428179 0.76451858 0.77464586 0.77816398\n",
            " 0.78410504 0.78403738 0.76957588 0.75940209 0.77563533 0.77834158\n",
            " 0.77566916 0.76907269 0.76593936 0.77177893 0.77047655 0.78080257\n",
            " 0.80157301 0.81240222 0.81542983 0.81066007 0.8123557  0.81420356\n",
            " 0.81438539 0.82133283 0.83526153 0.83813269 0.84249228 0.8386232\n",
            " 0.82861432 0.83250032 0.84333798 0.84418791 0.8443782  0.85015434\n",
            " 0.86925451 0.8862658  0.8815341  0.89488773 0.90245253 0.90703624\n",
            " 0.90570849 0.90498118 0.90631316 0.90513341 0.90722229 0.9190156\n",
            " 0.92832255 0.92457186 0.90865153 0.92261406 0.92131591 0.94468265\n",
            " 0.9472409  0.94740158 0.93839486 0.93524039 0.92736268 0.92008119\n",
            " 0.93354476 0.94462768 0.92971796 0.94192566 0.95079285 0.95508478\n",
            " 0.95897501 0.97333502 0.98828703 1.         0.99506956 0.98220221\n",
            " 0.97471775 0.96937291 0.9702609  0.98235443 0.97749588 0.94758341\n",
            " 0.93188718 0.88992798 0.89004993 0.88930541 0.88775575 0.88551497\n",
            " 0.88271576 0.87948865 0.87595153 0.87220508]\n",
            "9 day output [[0.8683307]]\n",
            "10 day input [0.77129688 0.76404076 0.77279378 0.77870523 0.7748446  0.76924183\n",
            " 0.76696266 0.763453   0.76702186 0.77650641 0.77514483 0.78033743\n",
            " 0.76750391 0.76428179 0.76451858 0.77464586 0.77816398 0.78410504\n",
            " 0.78403738 0.76957588 0.75940209 0.77563533 0.77834158 0.77566916\n",
            " 0.76907269 0.76593936 0.77177893 0.77047655 0.78080257 0.80157301\n",
            " 0.81240222 0.81542983 0.81066007 0.8123557  0.81420356 0.81438539\n",
            " 0.82133283 0.83526153 0.83813269 0.84249228 0.8386232  0.82861432\n",
            " 0.83250032 0.84333798 0.84418791 0.8443782  0.85015434 0.86925451\n",
            " 0.8862658  0.8815341  0.89488773 0.90245253 0.90703624 0.90570849\n",
            " 0.90498118 0.90631316 0.90513341 0.90722229 0.9190156  0.92832255\n",
            " 0.92457186 0.90865153 0.92261406 0.92131591 0.94468265 0.9472409\n",
            " 0.94740158 0.93839486 0.93524039 0.92736268 0.92008119 0.93354476\n",
            " 0.94462768 0.92971796 0.94192566 0.95079285 0.95508478 0.95897501\n",
            " 0.97333502 0.98828703 1.         0.99506956 0.98220221 0.97471775\n",
            " 0.96937291 0.9702609  0.98235443 0.97749588 0.94758341 0.93188718\n",
            " 0.88992798 0.89004993 0.88930541 0.88775575 0.88551497 0.88271576\n",
            " 0.87948865 0.87595153 0.87220508 0.86833072]\n",
            "10 day output [[0.8643925]]\n",
            "11 day input [0.76404076 0.77279378 0.77870523 0.7748446  0.76924183 0.76696266\n",
            " 0.763453   0.76702186 0.77650641 0.77514483 0.78033743 0.76750391\n",
            " 0.76428179 0.76451858 0.77464586 0.77816398 0.78410504 0.78403738\n",
            " 0.76957588 0.75940209 0.77563533 0.77834158 0.77566916 0.76907269\n",
            " 0.76593936 0.77177893 0.77047655 0.78080257 0.80157301 0.81240222\n",
            " 0.81542983 0.81066007 0.8123557  0.81420356 0.81438539 0.82133283\n",
            " 0.83526153 0.83813269 0.84249228 0.8386232  0.82861432 0.83250032\n",
            " 0.84333798 0.84418791 0.8443782  0.85015434 0.86925451 0.8862658\n",
            " 0.8815341  0.89488773 0.90245253 0.90703624 0.90570849 0.90498118\n",
            " 0.90631316 0.90513341 0.90722229 0.9190156  0.92832255 0.92457186\n",
            " 0.90865153 0.92261406 0.92131591 0.94468265 0.9472409  0.94740158\n",
            " 0.93839486 0.93524039 0.92736268 0.92008119 0.93354476 0.94462768\n",
            " 0.92971796 0.94192566 0.95079285 0.95508478 0.95897501 0.97333502\n",
            " 0.98828703 1.         0.99506956 0.98220221 0.97471775 0.96937291\n",
            " 0.9702609  0.98235443 0.97749588 0.94758341 0.93188718 0.88992798\n",
            " 0.89004993 0.88930541 0.88775575 0.88551497 0.88271576 0.87948865\n",
            " 0.87595153 0.87220508 0.86833072 0.86439252]\n",
            "11 day output [[0.8604384]]\n",
            "12 day input [0.77279378 0.77870523 0.7748446  0.76924183 0.76696266 0.763453\n",
            " 0.76702186 0.77650641 0.77514483 0.78033743 0.76750391 0.76428179\n",
            " 0.76451858 0.77464586 0.77816398 0.78410504 0.78403738 0.76957588\n",
            " 0.75940209 0.77563533 0.77834158 0.77566916 0.76907269 0.76593936\n",
            " 0.77177893 0.77047655 0.78080257 0.80157301 0.81240222 0.81542983\n",
            " 0.81066007 0.8123557  0.81420356 0.81438539 0.82133283 0.83526153\n",
            " 0.83813269 0.84249228 0.8386232  0.82861432 0.83250032 0.84333798\n",
            " 0.84418791 0.8443782  0.85015434 0.86925451 0.8862658  0.8815341\n",
            " 0.89488773 0.90245253 0.90703624 0.90570849 0.90498118 0.90631316\n",
            " 0.90513341 0.90722229 0.9190156  0.92832255 0.92457186 0.90865153\n",
            " 0.92261406 0.92131591 0.94468265 0.9472409  0.94740158 0.93839486\n",
            " 0.93524039 0.92736268 0.92008119 0.93354476 0.94462768 0.92971796\n",
            " 0.94192566 0.95079285 0.95508478 0.95897501 0.97333502 0.98828703\n",
            " 1.         0.99506956 0.98220221 0.97471775 0.96937291 0.9702609\n",
            " 0.98235443 0.97749588 0.94758341 0.93188718 0.88992798 0.89004993\n",
            " 0.88930541 0.88775575 0.88551497 0.88271576 0.87948865 0.87595153\n",
            " 0.87220508 0.86833072 0.86439252 0.86043841]\n",
            "12 day output [[0.85650367]]\n",
            "13 day input [0.77870523 0.7748446  0.76924183 0.76696266 0.763453   0.76702186\n",
            " 0.77650641 0.77514483 0.78033743 0.76750391 0.76428179 0.76451858\n",
            " 0.77464586 0.77816398 0.78410504 0.78403738 0.76957588 0.75940209\n",
            " 0.77563533 0.77834158 0.77566916 0.76907269 0.76593936 0.77177893\n",
            " 0.77047655 0.78080257 0.80157301 0.81240222 0.81542983 0.81066007\n",
            " 0.8123557  0.81420356 0.81438539 0.82133283 0.83526153 0.83813269\n",
            " 0.84249228 0.8386232  0.82861432 0.83250032 0.84333798 0.84418791\n",
            " 0.8443782  0.85015434 0.86925451 0.8862658  0.8815341  0.89488773\n",
            " 0.90245253 0.90703624 0.90570849 0.90498118 0.90631316 0.90513341\n",
            " 0.90722229 0.9190156  0.92832255 0.92457186 0.90865153 0.92261406\n",
            " 0.92131591 0.94468265 0.9472409  0.94740158 0.93839486 0.93524039\n",
            " 0.92736268 0.92008119 0.93354476 0.94462768 0.92971796 0.94192566\n",
            " 0.95079285 0.95508478 0.95897501 0.97333502 0.98828703 1.\n",
            " 0.99506956 0.98220221 0.97471775 0.96937291 0.9702609  0.98235443\n",
            " 0.97749588 0.94758341 0.93188718 0.88992798 0.89004993 0.88930541\n",
            " 0.88775575 0.88551497 0.88271576 0.87948865 0.87595153 0.87220508\n",
            " 0.86833072 0.86439252 0.86043841 0.85650367]\n",
            "13 day output [[0.85261244]]\n",
            "14 day input [0.7748446  0.76924183 0.76696266 0.763453   0.76702186 0.77650641\n",
            " 0.77514483 0.78033743 0.76750391 0.76428179 0.76451858 0.77464586\n",
            " 0.77816398 0.78410504 0.78403738 0.76957588 0.75940209 0.77563533\n",
            " 0.77834158 0.77566916 0.76907269 0.76593936 0.77177893 0.77047655\n",
            " 0.78080257 0.80157301 0.81240222 0.81542983 0.81066007 0.8123557\n",
            " 0.81420356 0.81438539 0.82133283 0.83526153 0.83813269 0.84249228\n",
            " 0.8386232  0.82861432 0.83250032 0.84333798 0.84418791 0.8443782\n",
            " 0.85015434 0.86925451 0.8862658  0.8815341  0.89488773 0.90245253\n",
            " 0.90703624 0.90570849 0.90498118 0.90631316 0.90513341 0.90722229\n",
            " 0.9190156  0.92832255 0.92457186 0.90865153 0.92261406 0.92131591\n",
            " 0.94468265 0.9472409  0.94740158 0.93839486 0.93524039 0.92736268\n",
            " 0.92008119 0.93354476 0.94462768 0.92971796 0.94192566 0.95079285\n",
            " 0.95508478 0.95897501 0.97333502 0.98828703 1.         0.99506956\n",
            " 0.98220221 0.97471775 0.96937291 0.9702609  0.98235443 0.97749588\n",
            " 0.94758341 0.93188718 0.88992798 0.89004993 0.88930541 0.88775575\n",
            " 0.88551497 0.88271576 0.87948865 0.87595153 0.87220508 0.86833072\n",
            " 0.86439252 0.86043841 0.85650367 0.85261244]\n",
            "14 day output [[0.84878033]]\n",
            "15 day input [0.76924183 0.76696266 0.763453   0.76702186 0.77650641 0.77514483\n",
            " 0.78033743 0.76750391 0.76428179 0.76451858 0.77464586 0.77816398\n",
            " 0.78410504 0.78403738 0.76957588 0.75940209 0.77563533 0.77834158\n",
            " 0.77566916 0.76907269 0.76593936 0.77177893 0.77047655 0.78080257\n",
            " 0.80157301 0.81240222 0.81542983 0.81066007 0.8123557  0.81420356\n",
            " 0.81438539 0.82133283 0.83526153 0.83813269 0.84249228 0.8386232\n",
            " 0.82861432 0.83250032 0.84333798 0.84418791 0.8443782  0.85015434\n",
            " 0.86925451 0.8862658  0.8815341  0.89488773 0.90245253 0.90703624\n",
            " 0.90570849 0.90498118 0.90631316 0.90513341 0.90722229 0.9190156\n",
            " 0.92832255 0.92457186 0.90865153 0.92261406 0.92131591 0.94468265\n",
            " 0.9472409  0.94740158 0.93839486 0.93524039 0.92736268 0.92008119\n",
            " 0.93354476 0.94462768 0.92971796 0.94192566 0.95079285 0.95508478\n",
            " 0.95897501 0.97333502 0.98828703 1.         0.99506956 0.98220221\n",
            " 0.97471775 0.96937291 0.9702609  0.98235443 0.97749588 0.94758341\n",
            " 0.93188718 0.88992798 0.89004993 0.88930541 0.88775575 0.88551497\n",
            " 0.88271576 0.87948865 0.87595153 0.87220508 0.86833072 0.86439252\n",
            " 0.86043841 0.85650367 0.85261244 0.84878033]\n",
            "15 day output [[0.8450171]]\n",
            "16 day input [0.76696266 0.763453   0.76702186 0.77650641 0.77514483 0.78033743\n",
            " 0.76750391 0.76428179 0.76451858 0.77464586 0.77816398 0.78410504\n",
            " 0.78403738 0.76957588 0.75940209 0.77563533 0.77834158 0.77566916\n",
            " 0.76907269 0.76593936 0.77177893 0.77047655 0.78080257 0.80157301\n",
            " 0.81240222 0.81542983 0.81066007 0.8123557  0.81420356 0.81438539\n",
            " 0.82133283 0.83526153 0.83813269 0.84249228 0.8386232  0.82861432\n",
            " 0.83250032 0.84333798 0.84418791 0.8443782  0.85015434 0.86925451\n",
            " 0.8862658  0.8815341  0.89488773 0.90245253 0.90703624 0.90570849\n",
            " 0.90498118 0.90631316 0.90513341 0.90722229 0.9190156  0.92832255\n",
            " 0.92457186 0.90865153 0.92261406 0.92131591 0.94468265 0.9472409\n",
            " 0.94740158 0.93839486 0.93524039 0.92736268 0.92008119 0.93354476\n",
            " 0.94462768 0.92971796 0.94192566 0.95079285 0.95508478 0.95897501\n",
            " 0.97333502 0.98828703 1.         0.99506956 0.98220221 0.97471775\n",
            " 0.96937291 0.9702609  0.98235443 0.97749588 0.94758341 0.93188718\n",
            " 0.88992798 0.89004993 0.88930541 0.88775575 0.88551497 0.88271576\n",
            " 0.87948865 0.87595153 0.87220508 0.86833072 0.86439252 0.86043841\n",
            " 0.85650367 0.85261244 0.84878033 0.84501708]\n",
            "16 day output [[0.84132826]]\n",
            "17 day input [0.763453   0.76702186 0.77650641 0.77514483 0.78033743 0.76750391\n",
            " 0.76428179 0.76451858 0.77464586 0.77816398 0.78410504 0.78403738\n",
            " 0.76957588 0.75940209 0.77563533 0.77834158 0.77566916 0.76907269\n",
            " 0.76593936 0.77177893 0.77047655 0.78080257 0.80157301 0.81240222\n",
            " 0.81542983 0.81066007 0.8123557  0.81420356 0.81438539 0.82133283\n",
            " 0.83526153 0.83813269 0.84249228 0.8386232  0.82861432 0.83250032\n",
            " 0.84333798 0.84418791 0.8443782  0.85015434 0.86925451 0.8862658\n",
            " 0.8815341  0.89488773 0.90245253 0.90703624 0.90570849 0.90498118\n",
            " 0.90631316 0.90513341 0.90722229 0.9190156  0.92832255 0.92457186\n",
            " 0.90865153 0.92261406 0.92131591 0.94468265 0.9472409  0.94740158\n",
            " 0.93839486 0.93524039 0.92736268 0.92008119 0.93354476 0.94462768\n",
            " 0.92971796 0.94192566 0.95079285 0.95508478 0.95897501 0.97333502\n",
            " 0.98828703 1.         0.99506956 0.98220221 0.97471775 0.96937291\n",
            " 0.9702609  0.98235443 0.97749588 0.94758341 0.93188718 0.88992798\n",
            " 0.89004993 0.88930541 0.88775575 0.88551497 0.88271576 0.87948865\n",
            " 0.87595153 0.87220508 0.86833072 0.86439252 0.86043841 0.85650367\n",
            " 0.85261244 0.84878033 0.84501708 0.84132826]\n",
            "17 day output [[0.8377152]]\n",
            "18 day input [0.76702186 0.77650641 0.77514483 0.78033743 0.76750391 0.76428179\n",
            " 0.76451858 0.77464586 0.77816398 0.78410504 0.78403738 0.76957588\n",
            " 0.75940209 0.77563533 0.77834158 0.77566916 0.76907269 0.76593936\n",
            " 0.77177893 0.77047655 0.78080257 0.80157301 0.81240222 0.81542983\n",
            " 0.81066007 0.8123557  0.81420356 0.81438539 0.82133283 0.83526153\n",
            " 0.83813269 0.84249228 0.8386232  0.82861432 0.83250032 0.84333798\n",
            " 0.84418791 0.8443782  0.85015434 0.86925451 0.8862658  0.8815341\n",
            " 0.89488773 0.90245253 0.90703624 0.90570849 0.90498118 0.90631316\n",
            " 0.90513341 0.90722229 0.9190156  0.92832255 0.92457186 0.90865153\n",
            " 0.92261406 0.92131591 0.94468265 0.9472409  0.94740158 0.93839486\n",
            " 0.93524039 0.92736268 0.92008119 0.93354476 0.94462768 0.92971796\n",
            " 0.94192566 0.95079285 0.95508478 0.95897501 0.97333502 0.98828703\n",
            " 1.         0.99506956 0.98220221 0.97471775 0.96937291 0.9702609\n",
            " 0.98235443 0.97749588 0.94758341 0.93188718 0.88992798 0.89004993\n",
            " 0.88930541 0.88775575 0.88551497 0.88271576 0.87948865 0.87595153\n",
            " 0.87220508 0.86833072 0.86439252 0.86043841 0.85650367 0.85261244\n",
            " 0.84878033 0.84501708 0.84132826 0.83771521]\n",
            "18 day output [[0.8341785]]\n",
            "19 day input [0.77650641 0.77514483 0.78033743 0.76750391 0.76428179 0.76451858\n",
            " 0.77464586 0.77816398 0.78410504 0.78403738 0.76957588 0.75940209\n",
            " 0.77563533 0.77834158 0.77566916 0.76907269 0.76593936 0.77177893\n",
            " 0.77047655 0.78080257 0.80157301 0.81240222 0.81542983 0.81066007\n",
            " 0.8123557  0.81420356 0.81438539 0.82133283 0.83526153 0.83813269\n",
            " 0.84249228 0.8386232  0.82861432 0.83250032 0.84333798 0.84418791\n",
            " 0.8443782  0.85015434 0.86925451 0.8862658  0.8815341  0.89488773\n",
            " 0.90245253 0.90703624 0.90570849 0.90498118 0.90631316 0.90513341\n",
            " 0.90722229 0.9190156  0.92832255 0.92457186 0.90865153 0.92261406\n",
            " 0.92131591 0.94468265 0.9472409  0.94740158 0.93839486 0.93524039\n",
            " 0.92736268 0.92008119 0.93354476 0.94462768 0.92971796 0.94192566\n",
            " 0.95079285 0.95508478 0.95897501 0.97333502 0.98828703 1.\n",
            " 0.99506956 0.98220221 0.97471775 0.96937291 0.9702609  0.98235443\n",
            " 0.97749588 0.94758341 0.93188718 0.88992798 0.89004993 0.88930541\n",
            " 0.88775575 0.88551497 0.88271576 0.87948865 0.87595153 0.87220508\n",
            " 0.86833072 0.86439252 0.86043841 0.85650367 0.85261244 0.84878033\n",
            " 0.84501708 0.84132826 0.83771521 0.83417851]\n",
            "19 day output [[0.8307161]]\n",
            "20 day input [0.77514483 0.78033743 0.76750391 0.76428179 0.76451858 0.77464586\n",
            " 0.77816398 0.78410504 0.78403738 0.76957588 0.75940209 0.77563533\n",
            " 0.77834158 0.77566916 0.76907269 0.76593936 0.77177893 0.77047655\n",
            " 0.78080257 0.80157301 0.81240222 0.81542983 0.81066007 0.8123557\n",
            " 0.81420356 0.81438539 0.82133283 0.83526153 0.83813269 0.84249228\n",
            " 0.8386232  0.82861432 0.83250032 0.84333798 0.84418791 0.8443782\n",
            " 0.85015434 0.86925451 0.8862658  0.8815341  0.89488773 0.90245253\n",
            " 0.90703624 0.90570849 0.90498118 0.90631316 0.90513341 0.90722229\n",
            " 0.9190156  0.92832255 0.92457186 0.90865153 0.92261406 0.92131591\n",
            " 0.94468265 0.9472409  0.94740158 0.93839486 0.93524039 0.92736268\n",
            " 0.92008119 0.93354476 0.94462768 0.92971796 0.94192566 0.95079285\n",
            " 0.95508478 0.95897501 0.97333502 0.98828703 1.         0.99506956\n",
            " 0.98220221 0.97471775 0.96937291 0.9702609  0.98235443 0.97749588\n",
            " 0.94758341 0.93188718 0.88992798 0.89004993 0.88930541 0.88775575\n",
            " 0.88551497 0.88271576 0.87948865 0.87595153 0.87220508 0.86833072\n",
            " 0.86439252 0.86043841 0.85650367 0.85261244 0.84878033 0.84501708\n",
            " 0.84132826 0.83771521 0.83417851 0.83071607]\n",
            "20 day output [[0.82732624]]\n",
            "21 day input [0.78033743 0.76750391 0.76428179 0.76451858 0.77464586 0.77816398\n",
            " 0.78410504 0.78403738 0.76957588 0.75940209 0.77563533 0.77834158\n",
            " 0.77566916 0.76907269 0.76593936 0.77177893 0.77047655 0.78080257\n",
            " 0.80157301 0.81240222 0.81542983 0.81066007 0.8123557  0.81420356\n",
            " 0.81438539 0.82133283 0.83526153 0.83813269 0.84249228 0.8386232\n",
            " 0.82861432 0.83250032 0.84333798 0.84418791 0.8443782  0.85015434\n",
            " 0.86925451 0.8862658  0.8815341  0.89488773 0.90245253 0.90703624\n",
            " 0.90570849 0.90498118 0.90631316 0.90513341 0.90722229 0.9190156\n",
            " 0.92832255 0.92457186 0.90865153 0.92261406 0.92131591 0.94468265\n",
            " 0.9472409  0.94740158 0.93839486 0.93524039 0.92736268 0.92008119\n",
            " 0.93354476 0.94462768 0.92971796 0.94192566 0.95079285 0.95508478\n",
            " 0.95897501 0.97333502 0.98828703 1.         0.99506956 0.98220221\n",
            " 0.97471775 0.96937291 0.9702609  0.98235443 0.97749588 0.94758341\n",
            " 0.93188718 0.88992798 0.89004993 0.88930541 0.88775575 0.88551497\n",
            " 0.88271576 0.87948865 0.87595153 0.87220508 0.86833072 0.86439252\n",
            " 0.86043841 0.85650367 0.85261244 0.84878033 0.84501708 0.84132826\n",
            " 0.83771521 0.83417851 0.83071607 0.82732624]\n",
            "21 day output [[0.82400614]]\n",
            "22 day input [0.76750391 0.76428179 0.76451858 0.77464586 0.77816398 0.78410504\n",
            " 0.78403738 0.76957588 0.75940209 0.77563533 0.77834158 0.77566916\n",
            " 0.76907269 0.76593936 0.77177893 0.77047655 0.78080257 0.80157301\n",
            " 0.81240222 0.81542983 0.81066007 0.8123557  0.81420356 0.81438539\n",
            " 0.82133283 0.83526153 0.83813269 0.84249228 0.8386232  0.82861432\n",
            " 0.83250032 0.84333798 0.84418791 0.8443782  0.85015434 0.86925451\n",
            " 0.8862658  0.8815341  0.89488773 0.90245253 0.90703624 0.90570849\n",
            " 0.90498118 0.90631316 0.90513341 0.90722229 0.9190156  0.92832255\n",
            " 0.92457186 0.90865153 0.92261406 0.92131591 0.94468265 0.9472409\n",
            " 0.94740158 0.93839486 0.93524039 0.92736268 0.92008119 0.93354476\n",
            " 0.94462768 0.92971796 0.94192566 0.95079285 0.95508478 0.95897501\n",
            " 0.97333502 0.98828703 1.         0.99506956 0.98220221 0.97471775\n",
            " 0.96937291 0.9702609  0.98235443 0.97749588 0.94758341 0.93188718\n",
            " 0.88992798 0.89004993 0.88930541 0.88775575 0.88551497 0.88271576\n",
            " 0.87948865 0.87595153 0.87220508 0.86833072 0.86439252 0.86043841\n",
            " 0.85650367 0.85261244 0.84878033 0.84501708 0.84132826 0.83771521\n",
            " 0.83417851 0.83071607 0.82732624 0.82400614]\n",
            "22 day output [[0.8207533]]\n",
            "23 day input [0.76428179 0.76451858 0.77464586 0.77816398 0.78410504 0.78403738\n",
            " 0.76957588 0.75940209 0.77563533 0.77834158 0.77566916 0.76907269\n",
            " 0.76593936 0.77177893 0.77047655 0.78080257 0.80157301 0.81240222\n",
            " 0.81542983 0.81066007 0.8123557  0.81420356 0.81438539 0.82133283\n",
            " 0.83526153 0.83813269 0.84249228 0.8386232  0.82861432 0.83250032\n",
            " 0.84333798 0.84418791 0.8443782  0.85015434 0.86925451 0.8862658\n",
            " 0.8815341  0.89488773 0.90245253 0.90703624 0.90570849 0.90498118\n",
            " 0.90631316 0.90513341 0.90722229 0.9190156  0.92832255 0.92457186\n",
            " 0.90865153 0.92261406 0.92131591 0.94468265 0.9472409  0.94740158\n",
            " 0.93839486 0.93524039 0.92736268 0.92008119 0.93354476 0.94462768\n",
            " 0.92971796 0.94192566 0.95079285 0.95508478 0.95897501 0.97333502\n",
            " 0.98828703 1.         0.99506956 0.98220221 0.97471775 0.96937291\n",
            " 0.9702609  0.98235443 0.97749588 0.94758341 0.93188718 0.88992798\n",
            " 0.89004993 0.88930541 0.88775575 0.88551497 0.88271576 0.87948865\n",
            " 0.87595153 0.87220508 0.86833072 0.86439252 0.86043841 0.85650367\n",
            " 0.85261244 0.84878033 0.84501708 0.84132826 0.83771521 0.83417851\n",
            " 0.83071607 0.82732624 0.82400614 0.82075328]\n",
            "23 day output [[0.817565]]\n",
            "24 day input [0.76451858 0.77464586 0.77816398 0.78410504 0.78403738 0.76957588\n",
            " 0.75940209 0.77563533 0.77834158 0.77566916 0.76907269 0.76593936\n",
            " 0.77177893 0.77047655 0.78080257 0.80157301 0.81240222 0.81542983\n",
            " 0.81066007 0.8123557  0.81420356 0.81438539 0.82133283 0.83526153\n",
            " 0.83813269 0.84249228 0.8386232  0.82861432 0.83250032 0.84333798\n",
            " 0.84418791 0.8443782  0.85015434 0.86925451 0.8862658  0.8815341\n",
            " 0.89488773 0.90245253 0.90703624 0.90570849 0.90498118 0.90631316\n",
            " 0.90513341 0.90722229 0.9190156  0.92832255 0.92457186 0.90865153\n",
            " 0.92261406 0.92131591 0.94468265 0.9472409  0.94740158 0.93839486\n",
            " 0.93524039 0.92736268 0.92008119 0.93354476 0.94462768 0.92971796\n",
            " 0.94192566 0.95079285 0.95508478 0.95897501 0.97333502 0.98828703\n",
            " 1.         0.99506956 0.98220221 0.97471775 0.96937291 0.9702609\n",
            " 0.98235443 0.97749588 0.94758341 0.93188718 0.88992798 0.89004993\n",
            " 0.88930541 0.88775575 0.88551497 0.88271576 0.87948865 0.87595153\n",
            " 0.87220508 0.86833072 0.86439252 0.86043841 0.85650367 0.85261244\n",
            " 0.84878033 0.84501708 0.84132826 0.83771521 0.83417851 0.83071607\n",
            " 0.82732624 0.82400614 0.82075328 0.81756502]\n",
            "24 day output [[0.8144387]]\n",
            "25 day input [0.77464586 0.77816398 0.78410504 0.78403738 0.76957588 0.75940209\n",
            " 0.77563533 0.77834158 0.77566916 0.76907269 0.76593936 0.77177893\n",
            " 0.77047655 0.78080257 0.80157301 0.81240222 0.81542983 0.81066007\n",
            " 0.8123557  0.81420356 0.81438539 0.82133283 0.83526153 0.83813269\n",
            " 0.84249228 0.8386232  0.82861432 0.83250032 0.84333798 0.84418791\n",
            " 0.8443782  0.85015434 0.86925451 0.8862658  0.8815341  0.89488773\n",
            " 0.90245253 0.90703624 0.90570849 0.90498118 0.90631316 0.90513341\n",
            " 0.90722229 0.9190156  0.92832255 0.92457186 0.90865153 0.92261406\n",
            " 0.92131591 0.94468265 0.9472409  0.94740158 0.93839486 0.93524039\n",
            " 0.92736268 0.92008119 0.93354476 0.94462768 0.92971796 0.94192566\n",
            " 0.95079285 0.95508478 0.95897501 0.97333502 0.98828703 1.\n",
            " 0.99506956 0.98220221 0.97471775 0.96937291 0.9702609  0.98235443\n",
            " 0.97749588 0.94758341 0.93188718 0.88992798 0.89004993 0.88930541\n",
            " 0.88775575 0.88551497 0.88271576 0.87948865 0.87595153 0.87220508\n",
            " 0.86833072 0.86439252 0.86043841 0.85650367 0.85261244 0.84878033\n",
            " 0.84501708 0.84132826 0.83771521 0.83417851 0.83071607 0.82732624\n",
            " 0.82400614 0.82075328 0.81756502 0.8144387 ]\n",
            "25 day output [[0.8113723]]\n",
            "26 day input [0.77816398 0.78410504 0.78403738 0.76957588 0.75940209 0.77563533\n",
            " 0.77834158 0.77566916 0.76907269 0.76593936 0.77177893 0.77047655\n",
            " 0.78080257 0.80157301 0.81240222 0.81542983 0.81066007 0.8123557\n",
            " 0.81420356 0.81438539 0.82133283 0.83526153 0.83813269 0.84249228\n",
            " 0.8386232  0.82861432 0.83250032 0.84333798 0.84418791 0.8443782\n",
            " 0.85015434 0.86925451 0.8862658  0.8815341  0.89488773 0.90245253\n",
            " 0.90703624 0.90570849 0.90498118 0.90631316 0.90513341 0.90722229\n",
            " 0.9190156  0.92832255 0.92457186 0.90865153 0.92261406 0.92131591\n",
            " 0.94468265 0.9472409  0.94740158 0.93839486 0.93524039 0.92736268\n",
            " 0.92008119 0.93354476 0.94462768 0.92971796 0.94192566 0.95079285\n",
            " 0.95508478 0.95897501 0.97333502 0.98828703 1.         0.99506956\n",
            " 0.98220221 0.97471775 0.96937291 0.9702609  0.98235443 0.97749588\n",
            " 0.94758341 0.93188718 0.88992798 0.89004993 0.88930541 0.88775575\n",
            " 0.88551497 0.88271576 0.87948865 0.87595153 0.87220508 0.86833072\n",
            " 0.86439252 0.86043841 0.85650367 0.85261244 0.84878033 0.84501708\n",
            " 0.84132826 0.83771521 0.83417851 0.83071607 0.82732624 0.82400614\n",
            " 0.82075328 0.81756502 0.8144387  0.81137228]\n",
            "26 day output [[0.8083634]]\n",
            "27 day input [0.78410504 0.78403738 0.76957588 0.75940209 0.77563533 0.77834158\n",
            " 0.77566916 0.76907269 0.76593936 0.77177893 0.77047655 0.78080257\n",
            " 0.80157301 0.81240222 0.81542983 0.81066007 0.8123557  0.81420356\n",
            " 0.81438539 0.82133283 0.83526153 0.83813269 0.84249228 0.8386232\n",
            " 0.82861432 0.83250032 0.84333798 0.84418791 0.8443782  0.85015434\n",
            " 0.86925451 0.8862658  0.8815341  0.89488773 0.90245253 0.90703624\n",
            " 0.90570849 0.90498118 0.90631316 0.90513341 0.90722229 0.9190156\n",
            " 0.92832255 0.92457186 0.90865153 0.92261406 0.92131591 0.94468265\n",
            " 0.9472409  0.94740158 0.93839486 0.93524039 0.92736268 0.92008119\n",
            " 0.93354476 0.94462768 0.92971796 0.94192566 0.95079285 0.95508478\n",
            " 0.95897501 0.97333502 0.98828703 1.         0.99506956 0.98220221\n",
            " 0.97471775 0.96937291 0.9702609  0.98235443 0.97749588 0.94758341\n",
            " 0.93188718 0.88992798 0.89004993 0.88930541 0.88775575 0.88551497\n",
            " 0.88271576 0.87948865 0.87595153 0.87220508 0.86833072 0.86439252\n",
            " 0.86043841 0.85650367 0.85261244 0.84878033 0.84501708 0.84132826\n",
            " 0.83771521 0.83417851 0.83071607 0.82732624 0.82400614 0.82075328\n",
            " 0.81756502 0.8144387  0.81137228 0.80836338]\n",
            "27 day output [[0.80540985]]\n",
            "28 day input [0.78403738 0.76957588 0.75940209 0.77563533 0.77834158 0.77566916\n",
            " 0.76907269 0.76593936 0.77177893 0.77047655 0.78080257 0.80157301\n",
            " 0.81240222 0.81542983 0.81066007 0.8123557  0.81420356 0.81438539\n",
            " 0.82133283 0.83526153 0.83813269 0.84249228 0.8386232  0.82861432\n",
            " 0.83250032 0.84333798 0.84418791 0.8443782  0.85015434 0.86925451\n",
            " 0.8862658  0.8815341  0.89488773 0.90245253 0.90703624 0.90570849\n",
            " 0.90498118 0.90631316 0.90513341 0.90722229 0.9190156  0.92832255\n",
            " 0.92457186 0.90865153 0.92261406 0.92131591 0.94468265 0.9472409\n",
            " 0.94740158 0.93839486 0.93524039 0.92736268 0.92008119 0.93354476\n",
            " 0.94462768 0.92971796 0.94192566 0.95079285 0.95508478 0.95897501\n",
            " 0.97333502 0.98828703 1.         0.99506956 0.98220221 0.97471775\n",
            " 0.96937291 0.9702609  0.98235443 0.97749588 0.94758341 0.93188718\n",
            " 0.88992798 0.89004993 0.88930541 0.88775575 0.88551497 0.88271576\n",
            " 0.87948865 0.87595153 0.87220508 0.86833072 0.86439252 0.86043841\n",
            " 0.85650367 0.85261244 0.84878033 0.84501708 0.84132826 0.83771521\n",
            " 0.83417851 0.83071607 0.82732624 0.82400614 0.82075328 0.81756502\n",
            " 0.8144387  0.81137228 0.80836338 0.80540985]\n",
            "28 day output [[0.80251014]]\n",
            "29 day input [0.76957588 0.75940209 0.77563533 0.77834158 0.77566916 0.76907269\n",
            " 0.76593936 0.77177893 0.77047655 0.78080257 0.80157301 0.81240222\n",
            " 0.81542983 0.81066007 0.8123557  0.81420356 0.81438539 0.82133283\n",
            " 0.83526153 0.83813269 0.84249228 0.8386232  0.82861432 0.83250032\n",
            " 0.84333798 0.84418791 0.8443782  0.85015434 0.86925451 0.8862658\n",
            " 0.8815341  0.89488773 0.90245253 0.90703624 0.90570849 0.90498118\n",
            " 0.90631316 0.90513341 0.90722229 0.9190156  0.92832255 0.92457186\n",
            " 0.90865153 0.92261406 0.92131591 0.94468265 0.9472409  0.94740158\n",
            " 0.93839486 0.93524039 0.92736268 0.92008119 0.93354476 0.94462768\n",
            " 0.92971796 0.94192566 0.95079285 0.95508478 0.95897501 0.97333502\n",
            " 0.98828703 1.         0.99506956 0.98220221 0.97471775 0.96937291\n",
            " 0.9702609  0.98235443 0.97749588 0.94758341 0.93188718 0.88992798\n",
            " 0.89004993 0.88930541 0.88775575 0.88551497 0.88271576 0.87948865\n",
            " 0.87595153 0.87220508 0.86833072 0.86439252 0.86043841 0.85650367\n",
            " 0.85261244 0.84878033 0.84501708 0.84132826 0.83771521 0.83417851\n",
            " 0.83071607 0.82732624 0.82400614 0.82075328 0.81756502 0.8144387\n",
            " 0.81137228 0.80836338 0.80540985 0.80251014]\n",
            "29 day output [[0.79966235]]\n",
            "[[0.8899279832839966], [0.890049934387207], [0.8893054127693176], [0.8877557516098022], [0.8855149745941162], [0.8827157616615295], [0.8794886469841003], [0.8759515285491943], [0.8722050786018372], [0.868330717086792], [0.8643925189971924], [0.8604384064674377], [0.8565036654472351], [0.8526124358177185], [0.8487803339958191], [0.8450170755386353], [0.8413282632827759], [0.837715208530426], [0.8341785073280334], [0.830716073513031], [0.827326238155365], [0.8240061402320862], [0.820753276348114], [0.8175650238990784], [0.8144387006759644], [0.8113722801208496], [0.8083633780479431], [0.805409848690033], [0.802510142326355], [0.7996623516082764]]\n"
          ]
        }
      ]
    },
    {
      "cell_type": "code",
      "metadata": {
        "id": "uVAVMa6DpLDZ"
      },
      "source": [
        "day_new = np.arange(1, 101)\n",
        "day_pred = np.arange(101, 131)"
      ],
      "execution_count": 110,
      "outputs": []
    },
    {
      "cell_type": "code",
      "metadata": {
        "id": "xSFzlI_ypkEq"
      },
      "source": [
        "df1 = df.tolist()\n",
        "df1.extend(lst_output)"
      ],
      "execution_count": 111,
      "outputs": []
    },
    {
      "cell_type": "code",
      "metadata": {
        "colab": {
          "base_uri": "https://localhost:8080/"
        },
        "id": "wD_6Djo9p1dJ",
        "outputId": "56f58ff0-3a36-4617-bcf0-a7fabbc9716a"
      },
      "source": [
        "len(df)"
      ],
      "execution_count": 112,
      "outputs": [
        {
          "output_type": "execute_result",
          "data": {
            "text/plain": [
              "1870"
            ]
          },
          "metadata": {},
          "execution_count": 112
        }
      ]
    },
    {
      "cell_type": "code",
      "metadata": {
        "colab": {
          "base_uri": "https://localhost:8080/",
          "height": 282
        },
        "id": "KBLyE9UtptwZ",
        "outputId": "d588e42a-5981-47be-a891-011655d7bab1"
      },
      "source": [
        "plt.plot(day_new, scaler.inverse_transform(df[1770:]))\n",
        "plt.plot(day_pred, scaler.inverse_transform(lst_output))"
      ],
      "execution_count": 113,
      "outputs": [
        {
          "output_type": "execute_result",
          "data": {
            "text/plain": [
              "[<matplotlib.lines.Line2D at 0x7fa14780fb50>]"
            ]
          },
          "metadata": {},
          "execution_count": 113
        },
        {
          "output_type": "display_data",
          "data": {
            "image/png": "[encoded data removed]",
            "text/plain": [
              "<Figure size 432x288 with 1 Axes>"
            ]
          },
          "metadata": {
            "needs_background": "light"
          }
        }
      ]
    },
    {
      "cell_type": "code",
      "metadata": {
        "colab": {
          "base_uri": "https://localhost:8080/",
          "height": 282
        },
        "id": "AKprxrvQqe_y",
        "outputId": "156e022e-6621-4300-aebd-a7f34e92bff8"
      },
      "source": [
        "plt.plot(scaler.inverse_transform(df1))"
      ],
      "execution_count": 114,
      "outputs": [
        {
          "output_type": "execute_result",
          "data": {
            "text/plain": [
              "[<matplotlib.lines.Line2D at 0x7fa148d521d0>]"
            ]
          },
          "metadata": {},
          "execution_count": 114
        },
        {
          "output_type": "display_data",
          "data": {
            "image/png": "[encoded data removed]",
            "text/plain": [
              "<Figure size 432x288 with 1 Axes>"
            ]
          },
          "metadata": {
            "needs_background": "light"
          }
        }
      ]
    }
  ]
}